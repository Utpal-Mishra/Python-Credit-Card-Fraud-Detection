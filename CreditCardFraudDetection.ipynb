{
  "nbformat": 4,
  "nbformat_minor": 0,
  "metadata": {
    "colab": {
      "name": "CreditCardFraudDetection.ipynb",
      "provenance": [],
      "collapsed_sections": [
        "jgiZAKP9yUjf",
        "cZJ-h-LSye6I",
        "XZF_bu1byp_7",
        "JhNKDyAO1MiO",
        "ni0WiBNW1VdB",
        "S7qiblRq15S8",
        "zFcVKYY7V715",
        "Ltwo4bpdfUJB",
        "nZyd_Hfz2oLo",
        "Mzr01v1ThHp3",
        "MNRXrNXEH6wv",
        "o2NV_zuNP3vE",
        "HWm6WYhm4Fgj"
      ],
      "mount_file_id": "1qrqGvtw7q2n9KAsxJJsynyOQQJFyub0S",
      "authorship_tag": "ABX9TyPXiEP5YlasYJIvcTnUpjln",
      "include_colab_link": true
    },
    "kernelspec": {
      "name": "python3",
      "display_name": "Python 3"
    },
    "accelerator": "TPU"
  },
  "cells": [
    {
      "cell_type": "markdown",
      "metadata": {
        "id": "view-in-github",
        "colab_type": "text"
      },
      "source": [
        "<a href=\"https://colab.research.google.com/github/Utpal-Mishra/Python-Credit-Card-Fraud-Detection/blob/main/CreditCardFraudDetection.ipynb\" target=\"_parent\"><img src=\"https://colab.research.google.com/assets/colab-badge.svg\" alt=\"Open In Colab\"/></a>"
      ]
    },
    {
      "cell_type": "markdown",
      "metadata": {
        "id": "Ks43SbQdy4PG"
      },
      "source": [
        "#INSTALLING PACKAGES"
      ]
    },
    {
      "cell_type": "code",
      "metadata": {
        "id": "opX7tM8zvePJ",
        "colab": {
          "base_uri": "https://localhost:8080/",
          "height": 153
        },
        "outputId": "dfe04f55-8fab-4807-d75f-d059a507a6c0"
      },
      "source": [
        "!pip install --upgrade keras\n",
        "!pip install -q tensorflow==2.0beta1"
      ],
      "execution_count": null,
      "outputs": [
        {
          "output_type": "stream",
          "text": [
            "Requirement already up-to-date: keras in /usr/local/lib/python3.6/dist-packages (2.3.1)\n",
            "Requirement already satisfied, skipping upgrade: scipy>=0.14 in /usr/local/lib/python3.6/dist-packages (from keras) (1.4.1)\n",
            "Requirement already satisfied, skipping upgrade: numpy>=1.9.1 in /usr/local/lib/python3.6/dist-packages (from keras) (1.18.2)\n",
            "Requirement already satisfied, skipping upgrade: keras-applications>=1.0.6 in /usr/local/lib/python3.6/dist-packages (from keras) (1.0.8)\n",
            "Requirement already satisfied, skipping upgrade: h5py in /usr/local/lib/python3.6/dist-packages (from keras) (2.10.0)\n",
            "Requirement already satisfied, skipping upgrade: keras-preprocessing>=1.0.5 in /usr/local/lib/python3.6/dist-packages (from keras) (1.1.0)\n",
            "Requirement already satisfied, skipping upgrade: pyyaml in /usr/local/lib/python3.6/dist-packages (from keras) (3.13)\n",
            "Requirement already satisfied, skipping upgrade: six>=1.9.0 in /usr/local/lib/python3.6/dist-packages (from keras) (1.12.0)\n"
          ],
          "name": "stdout"
        }
      ]
    },
    {
      "cell_type": "markdown",
      "metadata": {
        "id": "rWc9WHyryF8w"
      },
      "source": [
        "#LIBRARIES"
      ]
    },
    {
      "cell_type": "code",
      "metadata": {
        "id": "BDVbe1u4wkpq"
      },
      "source": [
        "import numpy as np\n",
        "import pandas as pd\n",
        "import matplotlib.pyplot as plt\n",
        "\n",
        "from sklearn.metrics import classification_report\n",
        "from sklearn.metrics import confusion_matrix\n",
        "from sklearn.metrics import accuracy_score\n",
        "from sklearn.model_selection import train_test_split\n",
        "from sklearn.model_selection import cross_val_score\n",
        "from sklearn.model_selection import KFold\n",
        "from sklearn.tree import DecisionTreeClassifier\n",
        "from sklearn.neighbors import KNeighborsClassifier\n",
        "from sklearn.naive_bayes import GaussianNB\n",
        "from sklearn.pipeline import Pipeline\n",
        "from sklearn.preprocessing import StandardScaler\n",
        "from sklearn.model_selection import GridSearchCV\n",
        "from sklearn.svm import SVC\n",
        "import time"
      ],
      "execution_count": null,
      "outputs": []
    },
    {
      "cell_type": "markdown",
      "metadata": {
        "id": "zll5E-oEyKZC"
      },
      "source": [
        "#IMPORTING DATA"
      ]
    },
    {
      "cell_type": "code",
      "metadata": {
        "id": "XFd0sGgNIlUb",
        "colab": {
          "base_uri": "https://localhost:8080/",
          "height": 34
        },
        "outputId": "8cc781f9-464a-45f6-a2df-2e101206bc26"
      },
      "source": [
        "from google.colab import drive\n",
        "drive.mount('/content/drive/')"
      ],
      "execution_count": null,
      "outputs": [
        {
          "output_type": "stream",
          "text": [
            "Drive already mounted at /content/drive/; to attempt to forcibly remount, call drive.mount(\"/content/drive/\", force_remount=True).\n"
          ],
          "name": "stdout"
        }
      ]
    },
    {
      "cell_type": "code",
      "metadata": {
        "id": "ciXzTV1lVO4D"
      },
      "source": [
        "path = '/content/drive/My Drive/CreditCardFraud/creditcard.csv'\n",
        "df = pd.read_csv(path)"
      ],
      "execution_count": null,
      "outputs": []
    },
    {
      "cell_type": "code",
      "metadata": {
        "id": "vSeAqjEAwmk4",
        "colab": {
          "base_uri": "https://localhost:8080/",
          "height": 224
        },
        "outputId": "ac4f255d-cedf-4529-a217-c3a461591efc"
      },
      "source": [
        "df.head(5)"
      ],
      "execution_count": null,
      "outputs": [
        {
          "output_type": "execute_result",
          "data": {
            "text/html": [
              "<div>\n",
              "<style scoped>\n",
              "    .dataframe tbody tr th:only-of-type {\n",
              "        vertical-align: middle;\n",
              "    }\n",
              "\n",
              "    .dataframe tbody tr th {\n",
              "        vertical-align: top;\n",
              "    }\n",
              "\n",
              "    .dataframe thead th {\n",
              "        text-align: right;\n",
              "    }\n",
              "</style>\n",
              "<table border=\"1\" class=\"dataframe\">\n",
              "  <thead>\n",
              "    <tr style=\"text-align: right;\">\n",
              "      <th></th>\n",
              "      <th>Time</th>\n",
              "      <th>V1</th>\n",
              "      <th>V2</th>\n",
              "      <th>V3</th>\n",
              "      <th>V4</th>\n",
              "      <th>V5</th>\n",
              "      <th>V6</th>\n",
              "      <th>V7</th>\n",
              "      <th>V8</th>\n",
              "      <th>V9</th>\n",
              "      <th>V10</th>\n",
              "      <th>V11</th>\n",
              "      <th>V12</th>\n",
              "      <th>V13</th>\n",
              "      <th>V14</th>\n",
              "      <th>V15</th>\n",
              "      <th>V16</th>\n",
              "      <th>V17</th>\n",
              "      <th>V18</th>\n",
              "      <th>V19</th>\n",
              "      <th>V20</th>\n",
              "      <th>V21</th>\n",
              "      <th>V22</th>\n",
              "      <th>V23</th>\n",
              "      <th>V24</th>\n",
              "      <th>V25</th>\n",
              "      <th>V26</th>\n",
              "      <th>V27</th>\n",
              "      <th>V28</th>\n",
              "      <th>Amount</th>\n",
              "      <th>Class</th>\n",
              "    </tr>\n",
              "  </thead>\n",
              "  <tbody>\n",
              "    <tr>\n",
              "      <th>0</th>\n",
              "      <td>0</td>\n",
              "      <td>-1.359807</td>\n",
              "      <td>-0.072781</td>\n",
              "      <td>2.536347</td>\n",
              "      <td>1.378155</td>\n",
              "      <td>-0.338321</td>\n",
              "      <td>0.462388</td>\n",
              "      <td>0.239599</td>\n",
              "      <td>0.098698</td>\n",
              "      <td>0.363787</td>\n",
              "      <td>0.090794</td>\n",
              "      <td>-0.551600</td>\n",
              "      <td>-0.617801</td>\n",
              "      <td>-0.991390</td>\n",
              "      <td>-0.311169</td>\n",
              "      <td>1.468177</td>\n",
              "      <td>-0.470400</td>\n",
              "      <td>0.207971</td>\n",
              "      <td>0.025791</td>\n",
              "      <td>0.403993</td>\n",
              "      <td>0.251412</td>\n",
              "      <td>-0.018307</td>\n",
              "      <td>0.277838</td>\n",
              "      <td>-0.110474</td>\n",
              "      <td>0.066928</td>\n",
              "      <td>0.128539</td>\n",
              "      <td>-0.189115</td>\n",
              "      <td>0.133558</td>\n",
              "      <td>-0.021053</td>\n",
              "      <td>149.62</td>\n",
              "      <td>0</td>\n",
              "    </tr>\n",
              "    <tr>\n",
              "      <th>1</th>\n",
              "      <td>0</td>\n",
              "      <td>1.191857</td>\n",
              "      <td>0.266151</td>\n",
              "      <td>0.166480</td>\n",
              "      <td>0.448154</td>\n",
              "      <td>0.060018</td>\n",
              "      <td>-0.082361</td>\n",
              "      <td>-0.078803</td>\n",
              "      <td>0.085102</td>\n",
              "      <td>-0.255425</td>\n",
              "      <td>-0.166974</td>\n",
              "      <td>1.612727</td>\n",
              "      <td>1.065235</td>\n",
              "      <td>0.489095</td>\n",
              "      <td>-0.143772</td>\n",
              "      <td>0.635558</td>\n",
              "      <td>0.463917</td>\n",
              "      <td>-0.114805</td>\n",
              "      <td>-0.183361</td>\n",
              "      <td>-0.145783</td>\n",
              "      <td>-0.069083</td>\n",
              "      <td>-0.225775</td>\n",
              "      <td>-0.638672</td>\n",
              "      <td>0.101288</td>\n",
              "      <td>-0.339846</td>\n",
              "      <td>0.167170</td>\n",
              "      <td>0.125894</td>\n",
              "      <td>-0.008983</td>\n",
              "      <td>0.014724</td>\n",
              "      <td>2.69</td>\n",
              "      <td>0</td>\n",
              "    </tr>\n",
              "    <tr>\n",
              "      <th>2</th>\n",
              "      <td>1</td>\n",
              "      <td>-1.358354</td>\n",
              "      <td>-1.340163</td>\n",
              "      <td>1.773209</td>\n",
              "      <td>0.379780</td>\n",
              "      <td>-0.503198</td>\n",
              "      <td>1.800499</td>\n",
              "      <td>0.791461</td>\n",
              "      <td>0.247676</td>\n",
              "      <td>-1.514654</td>\n",
              "      <td>0.207643</td>\n",
              "      <td>0.624502</td>\n",
              "      <td>0.066084</td>\n",
              "      <td>0.717293</td>\n",
              "      <td>-0.165946</td>\n",
              "      <td>2.345865</td>\n",
              "      <td>-2.890083</td>\n",
              "      <td>1.109969</td>\n",
              "      <td>-0.121359</td>\n",
              "      <td>-2.261857</td>\n",
              "      <td>0.524980</td>\n",
              "      <td>0.247998</td>\n",
              "      <td>0.771679</td>\n",
              "      <td>0.909412</td>\n",
              "      <td>-0.689281</td>\n",
              "      <td>-0.327642</td>\n",
              "      <td>-0.139097</td>\n",
              "      <td>-0.055353</td>\n",
              "      <td>-0.059752</td>\n",
              "      <td>378.66</td>\n",
              "      <td>0</td>\n",
              "    </tr>\n",
              "    <tr>\n",
              "      <th>3</th>\n",
              "      <td>1</td>\n",
              "      <td>-0.966272</td>\n",
              "      <td>-0.185226</td>\n",
              "      <td>1.792993</td>\n",
              "      <td>-0.863291</td>\n",
              "      <td>-0.010309</td>\n",
              "      <td>1.247203</td>\n",
              "      <td>0.237609</td>\n",
              "      <td>0.377436</td>\n",
              "      <td>-1.387024</td>\n",
              "      <td>-0.054952</td>\n",
              "      <td>-0.226487</td>\n",
              "      <td>0.178228</td>\n",
              "      <td>0.507757</td>\n",
              "      <td>-0.287924</td>\n",
              "      <td>-0.631418</td>\n",
              "      <td>-1.059647</td>\n",
              "      <td>-0.684093</td>\n",
              "      <td>1.965775</td>\n",
              "      <td>-1.232622</td>\n",
              "      <td>-0.208038</td>\n",
              "      <td>-0.108301</td>\n",
              "      <td>0.005274</td>\n",
              "      <td>-0.190321</td>\n",
              "      <td>-1.175575</td>\n",
              "      <td>0.647376</td>\n",
              "      <td>-0.221929</td>\n",
              "      <td>0.062723</td>\n",
              "      <td>0.061458</td>\n",
              "      <td>123.50</td>\n",
              "      <td>0</td>\n",
              "    </tr>\n",
              "    <tr>\n",
              "      <th>4</th>\n",
              "      <td>2</td>\n",
              "      <td>-1.158233</td>\n",
              "      <td>0.877737</td>\n",
              "      <td>1.548718</td>\n",
              "      <td>0.403034</td>\n",
              "      <td>-0.407193</td>\n",
              "      <td>0.095922</td>\n",
              "      <td>0.592941</td>\n",
              "      <td>-0.270533</td>\n",
              "      <td>0.817739</td>\n",
              "      <td>0.753074</td>\n",
              "      <td>-0.822843</td>\n",
              "      <td>0.538196</td>\n",
              "      <td>1.345852</td>\n",
              "      <td>-1.119670</td>\n",
              "      <td>0.175121</td>\n",
              "      <td>-0.451449</td>\n",
              "      <td>-0.237033</td>\n",
              "      <td>-0.038195</td>\n",
              "      <td>0.803487</td>\n",
              "      <td>0.408542</td>\n",
              "      <td>-0.009431</td>\n",
              "      <td>0.798279</td>\n",
              "      <td>-0.137458</td>\n",
              "      <td>0.141267</td>\n",
              "      <td>-0.206010</td>\n",
              "      <td>0.502292</td>\n",
              "      <td>0.219422</td>\n",
              "      <td>0.215153</td>\n",
              "      <td>69.99</td>\n",
              "      <td>0</td>\n",
              "    </tr>\n",
              "  </tbody>\n",
              "</table>\n",
              "</div>"
            ],
            "text/plain": [
              "   Time        V1        V2        V3  ...       V27       V28  Amount  Class\n",
              "0     0 -1.359807 -0.072781  2.536347  ...  0.133558 -0.021053  149.62      0\n",
              "1     0  1.191857  0.266151  0.166480  ... -0.008983  0.014724    2.69      0\n",
              "2     1 -1.358354 -1.340163  1.773209  ... -0.055353 -0.059752  378.66      0\n",
              "3     1 -0.966272 -0.185226  1.792993  ...  0.062723  0.061458  123.50      0\n",
              "4     2 -1.158233  0.877737  1.548718  ...  0.219422  0.215153   69.99      0\n",
              "\n",
              "[5 rows x 31 columns]"
            ]
          },
          "metadata": {
            "tags": []
          },
          "execution_count": 5
        }
      ]
    },
    {
      "cell_type": "markdown",
      "metadata": {
        "id": "qYpUbv4CyOu8"
      },
      "source": [
        "#DATA VISUALIZATION"
      ]
    },
    {
      "cell_type": "code",
      "metadata": {
        "id": "WANwS5T5w1HM",
        "colab": {
          "base_uri": "https://localhost:8080/",
          "height": 334
        },
        "outputId": "147fa591-530e-465d-eb2a-dfe4e0494dfc"
      },
      "source": [
        "print(df.shape)\n",
        "df.describe()"
      ],
      "execution_count": null,
      "outputs": [
        {
          "output_type": "stream",
          "text": [
            "(284807, 31)\n"
          ],
          "name": "stdout"
        },
        {
          "output_type": "execute_result",
          "data": {
            "text/html": [
              "<div>\n",
              "<style scoped>\n",
              "    .dataframe tbody tr th:only-of-type {\n",
              "        vertical-align: middle;\n",
              "    }\n",
              "\n",
              "    .dataframe tbody tr th {\n",
              "        vertical-align: top;\n",
              "    }\n",
              "\n",
              "    .dataframe thead th {\n",
              "        text-align: right;\n",
              "    }\n",
              "</style>\n",
              "<table border=\"1\" class=\"dataframe\">\n",
              "  <thead>\n",
              "    <tr style=\"text-align: right;\">\n",
              "      <th></th>\n",
              "      <th>Time</th>\n",
              "      <th>V1</th>\n",
              "      <th>V2</th>\n",
              "      <th>V3</th>\n",
              "      <th>V4</th>\n",
              "      <th>V5</th>\n",
              "      <th>V6</th>\n",
              "      <th>V7</th>\n",
              "      <th>V8</th>\n",
              "      <th>V9</th>\n",
              "      <th>V10</th>\n",
              "      <th>V11</th>\n",
              "      <th>V12</th>\n",
              "      <th>V13</th>\n",
              "      <th>V14</th>\n",
              "      <th>V15</th>\n",
              "      <th>V16</th>\n",
              "      <th>V17</th>\n",
              "      <th>V18</th>\n",
              "      <th>V19</th>\n",
              "      <th>V20</th>\n",
              "      <th>V21</th>\n",
              "      <th>V22</th>\n",
              "      <th>V23</th>\n",
              "      <th>V24</th>\n",
              "      <th>V25</th>\n",
              "      <th>V26</th>\n",
              "      <th>V27</th>\n",
              "      <th>V28</th>\n",
              "      <th>Amount</th>\n",
              "      <th>Class</th>\n",
              "    </tr>\n",
              "  </thead>\n",
              "  <tbody>\n",
              "    <tr>\n",
              "      <th>count</th>\n",
              "      <td>284807.000000</td>\n",
              "      <td>2.848070e+05</td>\n",
              "      <td>2.848070e+05</td>\n",
              "      <td>2.848070e+05</td>\n",
              "      <td>2.848070e+05</td>\n",
              "      <td>2.848070e+05</td>\n",
              "      <td>2.848070e+05</td>\n",
              "      <td>2.848070e+05</td>\n",
              "      <td>2.848070e+05</td>\n",
              "      <td>2.848070e+05</td>\n",
              "      <td>2.848070e+05</td>\n",
              "      <td>2.848070e+05</td>\n",
              "      <td>2.848070e+05</td>\n",
              "      <td>2.848070e+05</td>\n",
              "      <td>2.848070e+05</td>\n",
              "      <td>2.848070e+05</td>\n",
              "      <td>2.848070e+05</td>\n",
              "      <td>2.848070e+05</td>\n",
              "      <td>2.848070e+05</td>\n",
              "      <td>2.848070e+05</td>\n",
              "      <td>2.848070e+05</td>\n",
              "      <td>2.848070e+05</td>\n",
              "      <td>2.848070e+05</td>\n",
              "      <td>2.848070e+05</td>\n",
              "      <td>2.848070e+05</td>\n",
              "      <td>2.848070e+05</td>\n",
              "      <td>2.848070e+05</td>\n",
              "      <td>2.848070e+05</td>\n",
              "      <td>2.848070e+05</td>\n",
              "      <td>284807.000000</td>\n",
              "      <td>284807.000000</td>\n",
              "    </tr>\n",
              "    <tr>\n",
              "      <th>mean</th>\n",
              "      <td>94813.859575</td>\n",
              "      <td>-1.193650e-11</td>\n",
              "      <td>-8.321435e-11</td>\n",
              "      <td>-1.193722e-10</td>\n",
              "      <td>-5.758218e-11</td>\n",
              "      <td>-8.075736e-12</td>\n",
              "      <td>-4.880404e-11</td>\n",
              "      <td>1.685322e-11</td>\n",
              "      <td>6.249845e-11</td>\n",
              "      <td>1.551921e-10</td>\n",
              "      <td>2.598242e-11</td>\n",
              "      <td>2.247260e-11</td>\n",
              "      <td>-2.071656e-11</td>\n",
              "      <td>-3.721897e-11</td>\n",
              "      <td>-1.148146e-10</td>\n",
              "      <td>-1.278054e-10</td>\n",
              "      <td>-3.159957e-12</td>\n",
              "      <td>-4.178273e-11</td>\n",
              "      <td>3.581405e-11</td>\n",
              "      <td>-5.723168e-11</td>\n",
              "      <td>5.372069e-11</td>\n",
              "      <td>1.860924e-11</td>\n",
              "      <td>4.880475e-11</td>\n",
              "      <td>-2.071527e-11</td>\n",
              "      <td>2.703579e-11</td>\n",
              "      <td>8.286263e-11</td>\n",
              "      <td>-4.880476e-11</td>\n",
              "      <td>9.128964e-12</td>\n",
              "      <td>5.617856e-12</td>\n",
              "      <td>88.349619</td>\n",
              "      <td>0.001727</td>\n",
              "    </tr>\n",
              "    <tr>\n",
              "      <th>std</th>\n",
              "      <td>47488.145955</td>\n",
              "      <td>1.958696e+00</td>\n",
              "      <td>1.651309e+00</td>\n",
              "      <td>1.516255e+00</td>\n",
              "      <td>1.415869e+00</td>\n",
              "      <td>1.380247e+00</td>\n",
              "      <td>1.332271e+00</td>\n",
              "      <td>1.237094e+00</td>\n",
              "      <td>1.194353e+00</td>\n",
              "      <td>1.098632e+00</td>\n",
              "      <td>1.088850e+00</td>\n",
              "      <td>1.020713e+00</td>\n",
              "      <td>9.992014e-01</td>\n",
              "      <td>9.952742e-01</td>\n",
              "      <td>9.585956e-01</td>\n",
              "      <td>9.153160e-01</td>\n",
              "      <td>8.762529e-01</td>\n",
              "      <td>8.493371e-01</td>\n",
              "      <td>8.381762e-01</td>\n",
              "      <td>8.140405e-01</td>\n",
              "      <td>7.709250e-01</td>\n",
              "      <td>7.345240e-01</td>\n",
              "      <td>7.257016e-01</td>\n",
              "      <td>6.244603e-01</td>\n",
              "      <td>6.056471e-01</td>\n",
              "      <td>5.212781e-01</td>\n",
              "      <td>4.822270e-01</td>\n",
              "      <td>4.036325e-01</td>\n",
              "      <td>3.300833e-01</td>\n",
              "      <td>250.120109</td>\n",
              "      <td>0.041527</td>\n",
              "    </tr>\n",
              "    <tr>\n",
              "      <th>min</th>\n",
              "      <td>0.000000</td>\n",
              "      <td>-5.640751e+01</td>\n",
              "      <td>-7.271573e+01</td>\n",
              "      <td>-4.832559e+01</td>\n",
              "      <td>-5.683171e+00</td>\n",
              "      <td>-1.137433e+02</td>\n",
              "      <td>-2.616051e+01</td>\n",
              "      <td>-4.355724e+01</td>\n",
              "      <td>-7.321672e+01</td>\n",
              "      <td>-1.343407e+01</td>\n",
              "      <td>-2.458826e+01</td>\n",
              "      <td>-4.797473e+00</td>\n",
              "      <td>-1.868371e+01</td>\n",
              "      <td>-5.791881e+00</td>\n",
              "      <td>-1.921433e+01</td>\n",
              "      <td>-4.498945e+00</td>\n",
              "      <td>-1.412985e+01</td>\n",
              "      <td>-2.516280e+01</td>\n",
              "      <td>-9.498746e+00</td>\n",
              "      <td>-7.213527e+00</td>\n",
              "      <td>-5.449772e+01</td>\n",
              "      <td>-3.483038e+01</td>\n",
              "      <td>-1.093314e+01</td>\n",
              "      <td>-4.480774e+01</td>\n",
              "      <td>-2.836627e+00</td>\n",
              "      <td>-1.029540e+01</td>\n",
              "      <td>-2.604551e+00</td>\n",
              "      <td>-2.256568e+01</td>\n",
              "      <td>-1.543008e+01</td>\n",
              "      <td>0.000000</td>\n",
              "      <td>0.000000</td>\n",
              "    </tr>\n",
              "    <tr>\n",
              "      <th>25%</th>\n",
              "      <td>54201.500000</td>\n",
              "      <td>-9.203733e-01</td>\n",
              "      <td>-5.985499e-01</td>\n",
              "      <td>-8.903648e-01</td>\n",
              "      <td>-8.486401e-01</td>\n",
              "      <td>-6.915970e-01</td>\n",
              "      <td>-7.682956e-01</td>\n",
              "      <td>-5.540759e-01</td>\n",
              "      <td>-2.086298e-01</td>\n",
              "      <td>-6.430976e-01</td>\n",
              "      <td>-5.354258e-01</td>\n",
              "      <td>-7.624942e-01</td>\n",
              "      <td>-4.055715e-01</td>\n",
              "      <td>-6.485393e-01</td>\n",
              "      <td>-4.255740e-01</td>\n",
              "      <td>-5.828843e-01</td>\n",
              "      <td>-4.680368e-01</td>\n",
              "      <td>-4.837483e-01</td>\n",
              "      <td>-4.988498e-01</td>\n",
              "      <td>-4.562989e-01</td>\n",
              "      <td>-2.117214e-01</td>\n",
              "      <td>-2.283949e-01</td>\n",
              "      <td>-5.423504e-01</td>\n",
              "      <td>-1.618463e-01</td>\n",
              "      <td>-3.545862e-01</td>\n",
              "      <td>-3.171450e-01</td>\n",
              "      <td>-3.269839e-01</td>\n",
              "      <td>-7.083955e-02</td>\n",
              "      <td>-5.295980e-02</td>\n",
              "      <td>5.600000</td>\n",
              "      <td>0.000000</td>\n",
              "    </tr>\n",
              "    <tr>\n",
              "      <th>50%</th>\n",
              "      <td>84692.000000</td>\n",
              "      <td>1.810880e-02</td>\n",
              "      <td>6.548560e-02</td>\n",
              "      <td>1.798463e-01</td>\n",
              "      <td>-1.984650e-02</td>\n",
              "      <td>-5.433580e-02</td>\n",
              "      <td>-2.741871e-01</td>\n",
              "      <td>4.010310e-02</td>\n",
              "      <td>2.235800e-02</td>\n",
              "      <td>-5.142870e-02</td>\n",
              "      <td>-9.291740e-02</td>\n",
              "      <td>-3.275740e-02</td>\n",
              "      <td>1.400326e-01</td>\n",
              "      <td>-1.356810e-02</td>\n",
              "      <td>5.060130e-02</td>\n",
              "      <td>4.807150e-02</td>\n",
              "      <td>6.641330e-02</td>\n",
              "      <td>-6.567580e-02</td>\n",
              "      <td>-3.636300e-03</td>\n",
              "      <td>3.734800e-03</td>\n",
              "      <td>-6.248110e-02</td>\n",
              "      <td>-2.945020e-02</td>\n",
              "      <td>6.781900e-03</td>\n",
              "      <td>-1.119290e-02</td>\n",
              "      <td>4.097610e-02</td>\n",
              "      <td>1.659350e-02</td>\n",
              "      <td>-5.213910e-02</td>\n",
              "      <td>1.342100e-03</td>\n",
              "      <td>1.124380e-02</td>\n",
              "      <td>22.000000</td>\n",
              "      <td>0.000000</td>\n",
              "    </tr>\n",
              "    <tr>\n",
              "      <th>75%</th>\n",
              "      <td>139320.500000</td>\n",
              "      <td>1.315642e+00</td>\n",
              "      <td>8.037239e-01</td>\n",
              "      <td>1.027195e+00</td>\n",
              "      <td>7.433412e-01</td>\n",
              "      <td>6.119265e-01</td>\n",
              "      <td>3.985649e-01</td>\n",
              "      <td>5.704361e-01</td>\n",
              "      <td>3.273459e-01</td>\n",
              "      <td>5.971391e-01</td>\n",
              "      <td>4.539235e-01</td>\n",
              "      <td>7.395934e-01</td>\n",
              "      <td>6.182380e-01</td>\n",
              "      <td>6.625049e-01</td>\n",
              "      <td>4.931498e-01</td>\n",
              "      <td>6.488208e-01</td>\n",
              "      <td>5.232963e-01</td>\n",
              "      <td>3.996750e-01</td>\n",
              "      <td>5.008067e-01</td>\n",
              "      <td>4.589493e-01</td>\n",
              "      <td>1.330408e-01</td>\n",
              "      <td>1.863772e-01</td>\n",
              "      <td>5.285536e-01</td>\n",
              "      <td>1.476421e-01</td>\n",
              "      <td>4.395266e-01</td>\n",
              "      <td>3.507156e-01</td>\n",
              "      <td>2.409522e-01</td>\n",
              "      <td>9.104515e-02</td>\n",
              "      <td>7.827995e-02</td>\n",
              "      <td>77.165000</td>\n",
              "      <td>0.000000</td>\n",
              "    </tr>\n",
              "    <tr>\n",
              "      <th>max</th>\n",
              "      <td>172792.000000</td>\n",
              "      <td>2.454930e+00</td>\n",
              "      <td>2.205773e+01</td>\n",
              "      <td>9.382558e+00</td>\n",
              "      <td>1.687534e+01</td>\n",
              "      <td>3.480167e+01</td>\n",
              "      <td>7.330163e+01</td>\n",
              "      <td>1.205895e+02</td>\n",
              "      <td>2.000721e+01</td>\n",
              "      <td>1.559499e+01</td>\n",
              "      <td>2.374514e+01</td>\n",
              "      <td>1.201891e+01</td>\n",
              "      <td>7.848392e+00</td>\n",
              "      <td>7.126883e+00</td>\n",
              "      <td>1.052677e+01</td>\n",
              "      <td>8.877742e+00</td>\n",
              "      <td>1.731511e+01</td>\n",
              "      <td>9.253526e+00</td>\n",
              "      <td>5.041069e+00</td>\n",
              "      <td>5.591971e+00</td>\n",
              "      <td>3.942090e+01</td>\n",
              "      <td>2.720284e+01</td>\n",
              "      <td>1.050309e+01</td>\n",
              "      <td>2.252841e+01</td>\n",
              "      <td>4.584549e+00</td>\n",
              "      <td>7.519589e+00</td>\n",
              "      <td>3.517346e+00</td>\n",
              "      <td>3.161220e+01</td>\n",
              "      <td>3.384781e+01</td>\n",
              "      <td>25691.160000</td>\n",
              "      <td>1.000000</td>\n",
              "    </tr>\n",
              "  </tbody>\n",
              "</table>\n",
              "</div>"
            ],
            "text/plain": [
              "                Time            V1  ...         Amount          Class\n",
              "count  284807.000000  2.848070e+05  ...  284807.000000  284807.000000\n",
              "mean    94813.859575 -1.193650e-11  ...      88.349619       0.001727\n",
              "std     47488.145955  1.958696e+00  ...     250.120109       0.041527\n",
              "min         0.000000 -5.640751e+01  ...       0.000000       0.000000\n",
              "25%     54201.500000 -9.203733e-01  ...       5.600000       0.000000\n",
              "50%     84692.000000  1.810880e-02  ...      22.000000       0.000000\n",
              "75%    139320.500000  1.315642e+00  ...      77.165000       0.000000\n",
              "max    172792.000000  2.454930e+00  ...   25691.160000       1.000000\n",
              "\n",
              "[8 rows x 31 columns]"
            ]
          },
          "metadata": {
            "tags": []
          },
          "execution_count": 6
        }
      ]
    },
    {
      "cell_type": "code",
      "metadata": {
        "id": "GNnZcHnZDIBr",
        "colab": {
          "base_uri": "https://localhost:8080/",
          "height": 1000
        },
        "outputId": "9c01f2ea-e301-41bc-8606-60b5bf1f00e0"
      },
      "source": [
        "df.hist(figsize = (12,10), bins=30)"
      ],
      "execution_count": null,
      "outputs": [
        {
          "output_type": "execute_result",
          "data": {
            "text/plain": [
              "array([[<matplotlib.axes._subplots.AxesSubplot object at 0x7f78f8aa8c50>,\n",
              "        <matplotlib.axes._subplots.AxesSubplot object at 0x7f78f89f9ef0>,\n",
              "        <matplotlib.axes._subplots.AxesSubplot object at 0x7f78f89be198>,\n",
              "        <matplotlib.axes._subplots.AxesSubplot object at 0x7f78f89f1400>,\n",
              "        <matplotlib.axes._subplots.AxesSubplot object at 0x7f78f89a3668>,\n",
              "        <matplotlib.axes._subplots.AxesSubplot object at 0x7f78f89578d0>],\n",
              "       [<matplotlib.axes._subplots.AxesSubplot object at 0x7f78f890cb38>,\n",
              "        <matplotlib.axes._subplots.AxesSubplot object at 0x7f78f88bdd68>,\n",
              "        <matplotlib.axes._subplots.AxesSubplot object at 0x7f78f88bddd8>,\n",
              "        <matplotlib.axes._subplots.AxesSubplot object at 0x7f78f88322b0>,\n",
              "        <matplotlib.axes._subplots.AxesSubplot object at 0x7f78f8864518>,\n",
              "        <matplotlib.axes._subplots.AxesSubplot object at 0x7f78f8818780>],\n",
              "       [<matplotlib.axes._subplots.AxesSubplot object at 0x7f78f87cc9e8>,\n",
              "        <matplotlib.axes._subplots.AxesSubplot object at 0x7f78f877cc50>,\n",
              "        <matplotlib.axes._subplots.AxesSubplot object at 0x7f78f87b1eb8>,\n",
              "        <matplotlib.axes._subplots.AxesSubplot object at 0x7f78f86f3160>,\n",
              "        <matplotlib.axes._subplots.AxesSubplot object at 0x7f78f87263c8>,\n",
              "        <matplotlib.axes._subplots.AxesSubplot object at 0x7f78f86d7630>],\n",
              "       [<matplotlib.axes._subplots.AxesSubplot object at 0x7f78f868b898>,\n",
              "        <matplotlib.axes._subplots.AxesSubplot object at 0x7f78f8640b00>,\n",
              "        <matplotlib.axes._subplots.AxesSubplot object at 0x7f78f85f3d68>,\n",
              "        <matplotlib.axes._subplots.AxesSubplot object at 0x7f78f8627fd0>,\n",
              "        <matplotlib.axes._subplots.AxesSubplot object at 0x7f78f85e7278>,\n",
              "        <matplotlib.axes._subplots.AxesSubplot object at 0x7f78f859a4e0>],\n",
              "       [<matplotlib.axes._subplots.AxesSubplot object at 0x7f78f854c748>,\n",
              "        <matplotlib.axes._subplots.AxesSubplot object at 0x7f78f84ff9b0>,\n",
              "        <matplotlib.axes._subplots.AxesSubplot object at 0x7f78f8531c18>,\n",
              "        <matplotlib.axes._subplots.AxesSubplot object at 0x7f78f84e9e80>,\n",
              "        <matplotlib.axes._subplots.AxesSubplot object at 0x7f78f84a7128>,\n",
              "        <matplotlib.axes._subplots.AxesSubplot object at 0x7f78f845b390>],\n",
              "       [<matplotlib.axes._subplots.AxesSubplot object at 0x7f78f84121d0>,\n",
              "        <matplotlib.axes._subplots.AxesSubplot object at 0x7f78f83c1550>,\n",
              "        <matplotlib.axes._subplots.AxesSubplot object at 0x7f78f83728d0>,\n",
              "        <matplotlib.axes._subplots.AxesSubplot object at 0x7f78f83a6c50>,\n",
              "        <matplotlib.axes._subplots.AxesSubplot object at 0x7f78f8359fd0>,\n",
              "        <matplotlib.axes._subplots.AxesSubplot object at 0x7f78f8317390>]],\n",
              "      dtype=object)"
            ]
          },
          "metadata": {
            "tags": []
          },
          "execution_count": 7
        },
        {
          "output_type": "display_data",
          "data": {
            "image/png": "[encoded data removed]",
            "text/plain": [
              "<Figure size 864x720 with 36 Axes>"
            ]
          },
          "metadata": {
            "tags": [],
            "needs_background": "light"
          }
        }
      ]
    },
    {
      "cell_type": "code",
      "metadata": {
        "id": "2A8Cz0VmxToC",
        "colab": {
          "base_uri": "https://localhost:8080/",
          "height": 68
        },
        "outputId": "ec9576b6-6562-4c9a-d0e7-32e99fc295a8"
      },
      "source": [
        "df['Class'].value_counts()\n",
        "\n",
        "#print(data.groupby('Class').size())"
      ],
      "execution_count": null,
      "outputs": [
        {
          "output_type": "execute_result",
          "data": {
            "text/plain": [
              "0    284315\n",
              "1       492\n",
              "Name: Class, dtype: int64"
            ]
          },
          "metadata": {
            "tags": []
          },
          "execution_count": 8
        }
      ]
    },
    {
      "cell_type": "code",
      "metadata": {
        "id": "j_yckp29xTqE"
      },
      "source": [
        "#data.plot(kind='density', subplots=True, layout=(5,7), sharex=False, legend=True, fontsize=1)\n",
        "#plt.show()"
      ],
      "execution_count": null,
      "outputs": []
    },
    {
      "cell_type": "code",
      "metadata": {
        "id": "SZe7frLpxTzO",
        "colab": {
          "base_uri": "https://localhost:8080/",
          "height": 281
        },
        "outputId": "fbd41132-d41b-46e6-88a6-d1c00bf9cd20"
      },
      "source": [
        "from matplotlib import cm as cm\n",
        "\n",
        "fig = plt.figure()\n",
        "ax1 = fig.add_subplot(111)\n",
        "cmap = cm.get_cmap('jet', 30)\n",
        "cax = ax1.imshow(df.corr(), interpolation=\"none\", cmap=cmap)\n",
        "ax1.grid(True)\n",
        "plt.title('CreditCard Fraud Attributes Correlation')\n",
        "# Add colorbar, make sure to specify tick locations to match desired ticklabels\n",
        "fig.colorbar(cax, ticks=[.75,.8,.85,.90,.95,1])\n",
        "plt.show()"
      ],
      "execution_count": null,
      "outputs": [
        {
          "output_type": "display_data",
          "data": {
            "image/png": "[encoded data removed]",
            "text/plain": [
              "<Figure size 432x288 with 2 Axes>"
            ]
          },
          "metadata": {
            "tags": [],
            "needs_background": "light"
          }
        }
      ]
    },
    {
      "cell_type": "code",
      "metadata": {
        "id": "1NcmADmiAIvi",
        "colab": {
          "base_uri": "https://localhost:8080/",
          "height": 339
        },
        "outputId": "a4559dc8-430f-490c-ca0d-440c630c0ab2"
      },
      "source": [
        "import seaborn as sns\n",
        "\n",
        "corr = df.corr()\n",
        "ax = sns.heatmap(corr, vmin =- 1, vmax = 1, center = 0, \n",
        "                  cmap = sns.diverging_palette(20, 220, n=200),\n",
        "                  square = True)\n",
        "ax.set_xticklabels(\n",
        "    ax.get_xticklabels(),\n",
        "    rotation = 45,\n",
        "    horizontalalignment = 'right'\n",
        ");"
      ],
      "execution_count": null,
      "outputs": [
        {
          "output_type": "stream",
          "text": [
            "/usr/local/lib/python3.6/dist-packages/statsmodels/tools/_testing.py:19: FutureWarning: pandas.util.testing is deprecated. Use the functions in the public API at pandas.testing instead.\n",
            "  import pandas.util.testing as tm\n"
          ],
          "name": "stderr"
        },
        {
          "output_type": "display_data",
          "data": {
            "image/png": "[encoded data removed]",
            "text/plain": [
              "<Figure size 432x288 with 2 Axes>"
            ]
          },
          "metadata": {
            "tags": [],
            "needs_background": "light"
          }
        }
      ]
    },
    {
      "cell_type": "markdown",
      "metadata": {
        "id": "jgiZAKP9yUjf"
      },
      "source": [
        "#DATA SPLITTING"
      ]
    },
    {
      "cell_type": "code",
      "metadata": {
        "id": "heORM8uPcqF8",
        "colab": {
          "base_uri": "https://localhost:8080/",
          "height": 68
        },
        "outputId": "6ddeb671-6615-422e-8011-a43db446690d"
      },
      "source": [
        "data  = pd.concat([df[:10000],df[40000:50000]])\n",
        "data['Class'].value_counts()"
      ],
      "execution_count": null,
      "outputs": [
        {
          "output_type": "execute_result",
          "data": {
            "text/plain": [
              "0    19918\n",
              "1       82\n",
              "Name: Class, dtype: int64"
            ]
          },
          "metadata": {
            "tags": []
          },
          "execution_count": 12
        }
      ]
    },
    {
      "cell_type": "code",
      "metadata": {
        "id": "qmcNojwbxT3E"
      },
      "source": [
        "Y = data['Class'].values\n",
        "X = data.drop('Class', axis=1).values\n",
        "\n",
        "X_train, X_test, Y_train, Y_test = train_test_split (X, Y, test_size = 0.20)"
      ],
      "execution_count": null,
      "outputs": []
    },
    {
      "cell_type": "code",
      "metadata": {
        "id": "3zdJM5bICdao",
        "colab": {
          "base_uri": "https://localhost:8080/",
          "height": 34
        },
        "outputId": "6fb9ea03-caf5-43f4-9c3c-4b078342c0fb"
      },
      "source": [
        "print(\"X_train.shape: \",X_train.shape, \"X_test.shape: \",X_test.shape,\"Y_train.shape: \", Y_train.shape, \"Y_test.shape: \",Y_test.shape)"
      ],
      "execution_count": null,
      "outputs": [
        {
          "output_type": "stream",
          "text": [
            "X_train.shape:  (16000, 30) X_test.shape:  (4000, 30) Y_train.shape:  (16000,) Y_test.shape:  (4000,)\n"
          ],
          "name": "stdout"
        }
      ]
    },
    {
      "cell_type": "markdown",
      "metadata": {
        "id": "cZJ-h-LSye6I"
      },
      "source": [
        "#ENSEMBLE MODELLING USING CROSS VALIDATION"
      ]
    },
    {
      "cell_type": "code",
      "metadata": {
        "id": "v5KMllIxxT5o"
      },
      "source": [
        "models_list = []\n",
        "models_list.append(('CART', DecisionTreeClassifier()))\n",
        "models_list.append(('SVM', SVC())) \n",
        "models_list.append(('NB', GaussianNB()))\n",
        "models_list.append(('KNN', KNeighborsClassifier()))"
      ],
      "execution_count": null,
      "outputs": []
    },
    {
      "cell_type": "code",
      "metadata": {
        "id": "7wS-9xSgxTxl",
        "colab": {
          "base_uri": "https://localhost:8080/",
          "height": 85
        },
        "outputId": "62e3291d-7a75-48a4-d542-49e4070ab283"
      },
      "source": [
        "num_folds = 10\n",
        "results = []\n",
        "names = []\n",
        "\n",
        "for name, model in models_list:\n",
        "    kfold = KFold(n_splits = num_folds)\n",
        "    start = time.time()\n",
        "    cv_results = cross_val_score(model, X_train, Y_train, cv=kfold, scoring = 'accuracy')\n",
        "    end = time.time()\n",
        "    results.append(cv_results)\n",
        "    names.append(name)\n",
        "    print( \"%s: %f (%f) (run time: %f)\" % (name, cv_results.mean(), cv_results.std(), end-start))"
      ],
      "execution_count": null,
      "outputs": [
        {
          "output_type": "stream",
          "text": [
            "CART: 0.999250 (0.000673) (run time: 3.050822)\n",
            "SVM: 0.996063 (0.001342) (run time: 2.303929)\n",
            "NB: 0.989688 (0.002742) (run time: 0.104972)\n",
            "KNN: 0.996188 (0.001324) (run time: 1.262284)\n"
          ],
          "name": "stdout"
        }
      ]
    },
    {
      "cell_type": "code",
      "metadata": {
        "id": "qNeiWBJyxTvd",
        "colab": {
          "base_uri": "https://localhost:8080/",
          "height": 294
        },
        "outputId": "ffce38ce-11bb-4eab-e8bb-d5d49ced9808"
      },
      "source": [
        "fig = plt.figure()\n",
        "fig.suptitle('Performance Comparison')\n",
        "ax = fig.add_subplot(111)\n",
        "plt.boxplot(results)\n",
        "ax.set_xticklabels(names)\n",
        "plt.show()"
      ],
      "execution_count": null,
      "outputs": [
        {
          "output_type": "display_data",
          "data": {
            "image/png": "[encoded data removed]",
            "text/plain": [
              "<Figure size 432x288 with 1 Axes>"
            ]
          },
          "metadata": {
            "tags": [],
            "needs_background": "light"
          }
        }
      ]
    },
    {
      "cell_type": "markdown",
      "metadata": {
        "id": "XZF_bu1byp_7"
      },
      "source": [
        "#PIPELINING"
      ]
    },
    {
      "cell_type": "code",
      "metadata": {
        "id": "NUhaIHb2xTth",
        "colab": {
          "base_uri": "https://localhost:8080/",
          "height": 85
        },
        "outputId": "571408a3-46c7-4317-a190-55040563c3e1"
      },
      "source": [
        "import warnings\n",
        "\n",
        "# Standardize the dataset\n",
        "pipelines = []\n",
        "\n",
        "pipelines.append(('ScaledCART', Pipeline([('Scaler', StandardScaler()),('CART',\n",
        "                                                                        DecisionTreeClassifier())])))\n",
        "pipelines.append(('ScaledSVM', Pipeline([('Scaler', StandardScaler()),('SVM', SVC( ))])))\n",
        "pipelines.append(('ScaledNB', Pipeline([('Scaler', StandardScaler()),('NB',\n",
        "                                                                      GaussianNB())])))\n",
        "pipelines.append(('ScaledKNN', Pipeline([('Scaler', StandardScaler()),('KNN',\n",
        "                                                                       KNeighborsClassifier())])))\n",
        "results = []\n",
        "names = []\n",
        "with warnings.catch_warnings():\n",
        "    warnings.simplefilter(\"ignore\")\n",
        "    kfold = KFold(n_splits=num_folds, random_state=123)\n",
        "    for name, model in pipelines:\n",
        "        start = time.time()\n",
        "        cv_results = cross_val_score(model, X_train, Y_train, cv=kfold, scoring='accuracy')\n",
        "        end = time.time()\n",
        "        results.append(cv_results)\n",
        "        names.append(name)\n",
        "        print( \"%s: %f (%f) (run time: %f)\" % (name, cv_results.mean(), cv_results.std(), end-start))"
      ],
      "execution_count": null,
      "outputs": [
        {
          "output_type": "stream",
          "text": [
            "ScaledCART: 0.999062 (0.000753) (run time: 3.129308)\n",
            "ScaledSVM: 0.998687 (0.000946) (run time: 6.099161)\n",
            "ScaledNB: 0.984500 (0.003281) (run time: 0.208195)\n",
            "ScaledKNN: 0.999375 (0.000625) (run time: 14.916771)\n"
          ],
          "name": "stdout"
        }
      ]
    },
    {
      "cell_type": "code",
      "metadata": {
        "id": "IzzZxMIOyHAZ",
        "colab": {
          "base_uri": "https://localhost:8080/",
          "height": 294
        },
        "outputId": "f3c0266a-d833-4d2a-9887-b28b1ac91a3d"
      },
      "source": [
        "fig = plt.figure()\n",
        "fig.suptitle('Performance Comparison')\n",
        "ax = fig.add_subplot(111)\n",
        "plt.boxplot(results)\n",
        "ax.set_xticklabels(names)\n",
        "plt.show()"
      ],
      "execution_count": null,
      "outputs": [
        {
          "output_type": "display_data",
          "data": {
            "image/png": "[encoded data removed]",
            "text/plain": [
              "<Figure size 432x288 with 1 Axes>"
            ]
          },
          "metadata": {
            "tags": [],
            "needs_background": "light"
          }
        }
      ]
    },
    {
      "cell_type": "markdown",
      "metadata": {
        "id": "JhNKDyAO1MiO"
      },
      "source": [
        "#SVM"
      ]
    },
    {
      "cell_type": "code",
      "metadata": {
        "id": "nctkC0t6yHHP",
        "colab": {
          "base_uri": "https://localhost:8080/",
          "height": 714
        },
        "outputId": "6dee7106-0bd9-443e-9d3e-b9a04011f0ab"
      },
      "source": [
        "scaler = StandardScaler().fit(X_train)\n",
        "rescaledX = scaler.transform(X_train)\n",
        "c_values = [0.1, 0.3, 0.5, 0.7, 0.9, 1.0, 1.3, 1.5, 1.7, 2.0]\n",
        "kernel_values = ['linear', 'poly', 'rbf', 'sigmoid']\n",
        "param_grid = dict(C=c_values, kernel=kernel_values)\n",
        "model = SVC()\n",
        "kfold = KFold(n_splits=num_folds)\n",
        "grid = GridSearchCV(estimator=model, param_grid=param_grid, scoring='accuracy', cv=kfold)\n",
        "grid_result = grid.fit(rescaledX, Y_train)\n",
        "print(\"Best: %f using %s\" % (grid_result.best_score_, grid_result.best_params_))\n",
        "means = grid_result.cv_results_['mean_test_score']\n",
        "stds = grid_result.cv_results_['std_test_score']\n",
        "params = grid_result.cv_results_['params']\n",
        "for mean, stdev, param in zip(means, stds, params):\n",
        "    print(\"%f (%f) with: %r\" % (mean, stdev, param))"
      ],
      "execution_count": null,
      "outputs": [
        {
          "output_type": "stream",
          "text": [
            "Best: 0.999625 using {'C': 0.1, 'kernel': 'linear'}\n",
            "0.999625 (0.000415) with: {'C': 0.1, 'kernel': 'linear'}\n",
            "0.999563 (0.000628) with: {'C': 0.1, 'kernel': 'poly'}\n",
            "0.996063 (0.001342) with: {'C': 0.1, 'kernel': 'rbf'}\n",
            "0.998375 (0.000848) with: {'C': 0.1, 'kernel': 'sigmoid'}\n",
            "0.999563 (0.000488) with: {'C': 0.3, 'kernel': 'linear'}\n",
            "0.999500 (0.000468) with: {'C': 0.3, 'kernel': 'poly'}\n",
            "0.996625 (0.001256) with: {'C': 0.3, 'kernel': 'rbf'}\n",
            "0.997687 (0.001342) with: {'C': 0.3, 'kernel': 'sigmoid'}\n",
            "0.999500 (0.000468) with: {'C': 0.5, 'kernel': 'linear'}\n",
            "0.999438 (0.000519) with: {'C': 0.5, 'kernel': 'poly'}\n",
            "0.998000 (0.001146) with: {'C': 0.5, 'kernel': 'rbf'}\n",
            "0.997375 (0.001335) with: {'C': 0.5, 'kernel': 'sigmoid'}\n",
            "0.999500 (0.000468) with: {'C': 0.7, 'kernel': 'linear'}\n",
            "0.999438 (0.000519) with: {'C': 0.7, 'kernel': 'poly'}\n",
            "0.998500 (0.000848) with: {'C': 0.7, 'kernel': 'rbf'}\n",
            "0.997125 (0.001317) with: {'C': 0.7, 'kernel': 'sigmoid'}\n",
            "0.999375 (0.000625) with: {'C': 0.9, 'kernel': 'linear'}\n",
            "0.999438 (0.000519) with: {'C': 0.9, 'kernel': 'poly'}\n",
            "0.998687 (0.000904) with: {'C': 0.9, 'kernel': 'rbf'}\n",
            "0.997062 (0.001557) with: {'C': 0.9, 'kernel': 'sigmoid'}\n",
            "0.999375 (0.000625) with: {'C': 1.0, 'kernel': 'linear'}\n",
            "0.999438 (0.000519) with: {'C': 1.0, 'kernel': 'poly'}\n",
            "0.998687 (0.000946) with: {'C': 1.0, 'kernel': 'rbf'}\n",
            "0.997125 (0.001561) with: {'C': 1.0, 'kernel': 'sigmoid'}\n",
            "0.999375 (0.000625) with: {'C': 1.3, 'kernel': 'linear'}\n",
            "0.999438 (0.000519) with: {'C': 1.3, 'kernel': 'poly'}\n",
            "0.998812 (0.000904) with: {'C': 1.3, 'kernel': 'rbf'}\n",
            "0.996937 (0.001354) with: {'C': 1.3, 'kernel': 'sigmoid'}\n",
            "0.999313 (0.000590) with: {'C': 1.5, 'kernel': 'linear'}\n",
            "0.999438 (0.000519) with: {'C': 1.5, 'kernel': 'poly'}\n",
            "0.998812 (0.000904) with: {'C': 1.5, 'kernel': 'rbf'}\n",
            "0.996937 (0.001354) with: {'C': 1.5, 'kernel': 'sigmoid'}\n",
            "0.999250 (0.000545) with: {'C': 1.7, 'kernel': 'linear'}\n",
            "0.999438 (0.000519) with: {'C': 1.7, 'kernel': 'poly'}\n",
            "0.998875 (0.000875) with: {'C': 1.7, 'kernel': 'rbf'}\n",
            "0.996937 (0.001354) with: {'C': 1.7, 'kernel': 'sigmoid'}\n",
            "0.999250 (0.000545) with: {'C': 2.0, 'kernel': 'linear'}\n",
            "0.999375 (0.000625) with: {'C': 2.0, 'kernel': 'poly'}\n",
            "0.998875 (0.000875) with: {'C': 2.0, 'kernel': 'rbf'}\n",
            "0.997125 (0.001375) with: {'C': 2.0, 'kernel': 'sigmoid'}\n"
          ],
          "name": "stdout"
        }
      ]
    },
    {
      "cell_type": "code",
      "metadata": {
        "id": "ebA8q_w4yHM-",
        "colab": {
          "base_uri": "https://localhost:8080/",
          "height": 34
        },
        "outputId": "6e50a745-fc46-4c4e-f008-0f2669055a3e"
      },
      "source": [
        "# prepare the model\n",
        "with warnings.catch_warnings():\n",
        "    warnings.simplefilter(\"ignore\")\n",
        "    scaler = StandardScaler().fit(X_train)\n",
        "X_train_scaled = scaler.transform(X_train)\n",
        "SVM = SVC(C=0.1, kernel='linear')\n",
        "start = time.time()\n",
        "SVM.fit(X_train_scaled, Y_train)\n",
        "end = time.time()\n",
        "print( \"Run Time: %f\" % (end-start))"
      ],
      "execution_count": null,
      "outputs": [
        {
          "output_type": "stream",
          "text": [
            "Run Time: 0.091443\n"
          ],
          "name": "stdout"
        }
      ]
    },
    {
      "cell_type": "code",
      "metadata": {
        "id": "ijCBx7I_yHFz"
      },
      "source": [
        "# estimate accuracy on test dataset\n",
        "with warnings.catch_warnings():\n",
        "    warnings.simplefilter(\"ignore\")\n",
        "    X_test_scaled = scaler.transform(X_test)\n",
        "SVM_pred = SVM.predict(X_test_scaled)"
      ],
      "execution_count": null,
      "outputs": []
    },
    {
      "cell_type": "code",
      "metadata": {
        "id": "Bi7-k4ARyd1N",
        "colab": {
          "base_uri": "https://localhost:8080/",
          "height": 51
        },
        "outputId": "39f1cf5f-48d1-4f37-d264-df8120fa6ef9"
      },
      "source": [
        "print(confusion_matrix(Y_test, SVM_pred))"
      ],
      "execution_count": null,
      "outputs": [
        {
          "output_type": "stream",
          "text": [
            "[[3980    1]\n",
            " [   1   18]]\n"
          ],
          "name": "stdout"
        }
      ]
    },
    {
      "cell_type": "code",
      "metadata": {
        "id": "U5_824s9QyCO",
        "colab": {
          "base_uri": "https://localhost:8080/",
          "height": 34
        },
        "outputId": "5ec8e26f-3a76-4f96-f9b4-4e34935578d8"
      },
      "source": [
        "accuracy = accuracy_score(Y_test, SVM_pred)\n",
        "print(\"Accuracy: %.2f%%\" % (accuracy * 100.0))"
      ],
      "execution_count": null,
      "outputs": [
        {
          "output_type": "stream",
          "text": [
            "Accuracy: 99.95%\n"
          ],
          "name": "stdout"
        }
      ]
    },
    {
      "cell_type": "code",
      "metadata": {
        "id": "-5tQavw-yZqZ",
        "colab": {
          "base_uri": "https://localhost:8080/",
          "height": 224
        },
        "outputId": "896c08c0-0401-4ed9-cd12-b7e9aeece3d3"
      },
      "source": [
        "print(\"Accuracy score %f\" % accuracy_score(Y_test, SVM_pred))\n",
        "print(classification_report(Y_test, SVM_pred))\n",
        "\n",
        "\"\"\"\n",
        "Accuracy score 0.999500\n",
        "              precision    recall  f1-score   support\n",
        "\n",
        "           0       1.00      1.00      1.00      3982\n",
        "           1       1.00      0.89      0.94        18\n",
        "\n",
        "    accuracy                           1.00      4000\n",
        "   macro avg       1.00      0.94      0.97      4000\n",
        "weighted avg       1.00      1.00      1.00      4000\n",
        "\"\"\""
      ],
      "execution_count": null,
      "outputs": [
        {
          "output_type": "stream",
          "text": [
            "Accuracy score 0.999500\n",
            "              precision    recall  f1-score   support\n",
            "\n",
            "           0       1.00      1.00      1.00      3981\n",
            "           1       0.95      0.95      0.95        19\n",
            "\n",
            "    accuracy                           1.00      4000\n",
            "   macro avg       0.97      0.97      0.97      4000\n",
            "weighted avg       1.00      1.00      1.00      4000\n",
            "\n"
          ],
          "name": "stdout"
        },
        {
          "output_type": "execute_result",
          "data": {
            "text/plain": [
              "'\\nAccuracy score 0.999500\\n              precision    recall  f1-score   support\\n\\n           0       1.00      1.00      1.00      3982\\n           1       1.00      0.89      0.94        18\\n\\n    accuracy                           1.00      4000\\n   macro avg       1.00      0.94      0.97      4000\\nweighted avg       1.00      1.00      1.00      4000\\n'"
            ]
          },
          "metadata": {
            "tags": []
          },
          "execution_count": 25
        }
      ]
    },
    {
      "cell_type": "markdown",
      "metadata": {
        "id": "ni0WiBNW1VdB"
      },
      "source": [
        "#NB"
      ]
    },
    {
      "cell_type": "code",
      "metadata": {
        "id": "s7kMtx5-1ZMW"
      },
      "source": [
        "sc_X = StandardScaler()\n",
        "X_train = sc_X.fit_transform(X_train)\n",
        "X_test = sc_X.transform(X_test)\n",
        "\n",
        "X = X.reshape(-1,1)\n",
        "Y = Y.reshape(-1,1)"
      ],
      "execution_count": null,
      "outputs": []
    },
    {
      "cell_type": "code",
      "metadata": {
        "id": "i_DOUaaZ1ZJ9",
        "colab": {
          "base_uri": "https://localhost:8080/",
          "height": 34
        },
        "outputId": "e63c6d0f-b2d1-432a-bf25-57f9fe48e9a7"
      },
      "source": [
        "from sklearn.naive_bayes import GaussianNB\n",
        "NB = GaussianNB()\n",
        "NB.fit(X_train,Y_train)"
      ],
      "execution_count": null,
      "outputs": [
        {
          "output_type": "execute_result",
          "data": {
            "text/plain": [
              "GaussianNB(priors=None, var_smoothing=1e-09)"
            ]
          },
          "metadata": {
            "tags": []
          },
          "execution_count": 27
        }
      ]
    },
    {
      "cell_type": "code",
      "metadata": {
        "id": "Pa14iXmd1ZIp"
      },
      "source": [
        "NB_pred = NB.predict(X_test)\n"
      ],
      "execution_count": null,
      "outputs": []
    },
    {
      "cell_type": "code",
      "metadata": {
        "id": "bDwM-jHX1ZCD",
        "colab": {
          "base_uri": "https://localhost:8080/",
          "height": 34
        },
        "outputId": "62cbe027-b9dc-4db1-d40a-d22f772ed910"
      },
      "source": [
        "NB.score(X_test, Y_test)"
      ],
      "execution_count": null,
      "outputs": [
        {
          "output_type": "execute_result",
          "data": {
            "text/plain": [
              "0.98175"
            ]
          },
          "metadata": {
            "tags": []
          },
          "execution_count": 29
        }
      ]
    },
    {
      "cell_type": "code",
      "metadata": {
        "id": "ecNO56LS1Y93",
        "colab": {
          "base_uri": "https://localhost:8080/",
          "height": 51
        },
        "outputId": "f007b073-4a29-4b7b-db27-fe73f2f6cd69"
      },
      "source": [
        "from sklearn.metrics import confusion_matrix\n",
        "cm = confusion_matrix(Y_test, NB_pred)\n",
        "print(cm)"
      ],
      "execution_count": null,
      "outputs": [
        {
          "output_type": "stream",
          "text": [
            "[[3908   73]\n",
            " [   0   19]]\n"
          ],
          "name": "stdout"
        }
      ]
    },
    {
      "cell_type": "code",
      "metadata": {
        "id": "Q1PpE1bYQtLC",
        "colab": {
          "base_uri": "https://localhost:8080/",
          "height": 34
        },
        "outputId": "4b6871b9-e1cc-4dea-e200-695463e8f65b"
      },
      "source": [
        "accuracy = accuracy_score(Y_test, NB_pred)\n",
        "print(\"Accuracy: %.2f%%\" % (accuracy * 100.0))"
      ],
      "execution_count": null,
      "outputs": [
        {
          "output_type": "stream",
          "text": [
            "Accuracy: 98.17%\n"
          ],
          "name": "stdout"
        }
      ]
    },
    {
      "cell_type": "code",
      "metadata": {
        "id": "bMDRqfvbE3jC",
        "colab": {
          "base_uri": "https://localhost:8080/",
          "height": 224
        },
        "outputId": "c27913f8-d409-4dfc-ff8f-628203f7bcbc"
      },
      "source": [
        "print(\"Accuracy score %f\" % accuracy_score(Y_test, NB_pred))\n",
        "print(classification_report(Y_test, NB_pred))\n",
        "\n",
        "\"\"\"\n",
        "Accuracy score 0.980750\n",
        "              precision    recall  f1-score   support\n",
        "\n",
        "           0       1.00      0.98      0.99      3977\n",
        "           1       0.23      1.00      0.37        23\n",
        "\n",
        "    accuracy                           0.98      4000\n",
        "   macro avg       0.61      0.99      0.68      4000\n",
        "weighted avg       1.00      0.98      0.99      4000\n",
        "\n",
        "\"\"\""
      ],
      "execution_count": null,
      "outputs": [
        {
          "output_type": "stream",
          "text": [
            "Accuracy score 0.981750\n",
            "              precision    recall  f1-score   support\n",
            "\n",
            "           0       1.00      0.98      0.99      3981\n",
            "           1       0.21      1.00      0.34        19\n",
            "\n",
            "    accuracy                           0.98      4000\n",
            "   macro avg       0.60      0.99      0.67      4000\n",
            "weighted avg       1.00      0.98      0.99      4000\n",
            "\n"
          ],
          "name": "stdout"
        },
        {
          "output_type": "execute_result",
          "data": {
            "text/plain": [
              "'\\nAccuracy score 0.980750\\n              precision    recall  f1-score   support\\n\\n           0       1.00      0.98      0.99      3977\\n           1       0.23      1.00      0.37        23\\n\\n    accuracy                           0.98      4000\\n   macro avg       0.61      0.99      0.68      4000\\nweighted avg       1.00      0.98      0.99      4000\\n\\n'"
            ]
          },
          "metadata": {
            "tags": []
          },
          "execution_count": 32
        }
      ]
    },
    {
      "cell_type": "markdown",
      "metadata": {
        "id": "S7qiblRq15S8"
      },
      "source": [
        "#DT"
      ]
    },
    {
      "cell_type": "code",
      "metadata": {
        "id": "_vYHINgh1t6R"
      },
      "source": [
        "sc_X = StandardScaler()\n",
        "X_train = sc_X.fit_transform(X_train)\n",
        "X_test = sc_X.transform(X_test)"
      ],
      "execution_count": null,
      "outputs": []
    },
    {
      "cell_type": "code",
      "metadata": {
        "id": "LnHsoAhY16e8"
      },
      "source": [
        "X = X.reshape(-1,1)\n",
        "Y = Y.reshape(-1,1)"
      ],
      "execution_count": null,
      "outputs": []
    },
    {
      "cell_type": "code",
      "metadata": {
        "id": "-j_fA2NM2Ci2",
        "colab": {
          "base_uri": "https://localhost:8080/",
          "height": 51
        },
        "outputId": "ea664768-0baa-47bb-8595-3cbaba988495"
      },
      "source": [
        "print(X.shape)\n",
        "print(Y.shape)"
      ],
      "execution_count": null,
      "outputs": [
        {
          "output_type": "stream",
          "text": [
            "(600000, 1)\n",
            "(20000, 1)\n"
          ],
          "name": "stdout"
        }
      ]
    },
    {
      "cell_type": "code",
      "metadata": {
        "id": "C_9z888W2DQh",
        "colab": {
          "base_uri": "https://localhost:8080/",
          "height": 119
        },
        "outputId": "94656918-71e4-4a9c-fcb8-32d597f1a8c0"
      },
      "source": [
        "from sklearn.tree import DecisionTreeClassifier\n",
        "DT = DecisionTreeClassifier(criterion='entropy', random_state=0)\n",
        "DT.fit(X_train,Y_train)"
      ],
      "execution_count": null,
      "outputs": [
        {
          "output_type": "execute_result",
          "data": {
            "text/plain": [
              "DecisionTreeClassifier(ccp_alpha=0.0, class_weight=None, criterion='entropy',\n",
              "                       max_depth=None, max_features=None, max_leaf_nodes=None,\n",
              "                       min_impurity_decrease=0.0, min_impurity_split=None,\n",
              "                       min_samples_leaf=1, min_samples_split=2,\n",
              "                       min_weight_fraction_leaf=0.0, presort='deprecated',\n",
              "                       random_state=0, splitter='best')"
            ]
          },
          "metadata": {
            "tags": []
          },
          "execution_count": 36
        }
      ]
    },
    {
      "cell_type": "code",
      "metadata": {
        "id": "778-DyWy2F_L"
      },
      "source": [
        "DT_pred = DT.predict(X_test)"
      ],
      "execution_count": null,
      "outputs": []
    },
    {
      "cell_type": "code",
      "metadata": {
        "id": "vaw2K3FF2JO2",
        "colab": {
          "base_uri": "https://localhost:8080/",
          "height": 119
        },
        "outputId": "57ccb587-1cf3-4a47-a929-559834ca63ac"
      },
      "source": [
        "DT.score(X_test, Y_test)\n",
        "DT.fit(X_test,Y_test)"
      ],
      "execution_count": null,
      "outputs": [
        {
          "output_type": "execute_result",
          "data": {
            "text/plain": [
              "DecisionTreeClassifier(ccp_alpha=0.0, class_weight=None, criterion='entropy',\n",
              "                       max_depth=None, max_features=None, max_leaf_nodes=None,\n",
              "                       min_impurity_decrease=0.0, min_impurity_split=None,\n",
              "                       min_samples_leaf=1, min_samples_split=2,\n",
              "                       min_weight_fraction_leaf=0.0, presort='deprecated',\n",
              "                       random_state=0, splitter='best')"
            ]
          },
          "metadata": {
            "tags": []
          },
          "execution_count": 38
        }
      ]
    },
    {
      "cell_type": "code",
      "metadata": {
        "id": "F96rdu8v2LNT",
        "colab": {
          "base_uri": "https://localhost:8080/",
          "height": 51
        },
        "outputId": "31f9dcbc-b4f6-477b-d03b-268c3459a0ea"
      },
      "source": [
        "from sklearn.metrics import confusion_matrix\n",
        "cm = confusion_matrix(Y_test, DT_pred)\n",
        "print(cm)"
      ],
      "execution_count": null,
      "outputs": [
        {
          "output_type": "stream",
          "text": [
            "[[3981    0]\n",
            " [   1   18]]\n"
          ],
          "name": "stdout"
        }
      ]
    },
    {
      "cell_type": "code",
      "metadata": {
        "id": "WjgcubEkQqoM",
        "colab": {
          "base_uri": "https://localhost:8080/",
          "height": 34
        },
        "outputId": "623105be-e099-4a46-d5db-9cc457eac403"
      },
      "source": [
        "accuracy = accuracy_score(Y_test, DT_pred)\n",
        "print(\"Accuracy: %.2f%%\" % (accuracy * 100.0))"
      ],
      "execution_count": null,
      "outputs": [
        {
          "output_type": "stream",
          "text": [
            "Accuracy: 99.98%\n"
          ],
          "name": "stdout"
        }
      ]
    },
    {
      "cell_type": "code",
      "metadata": {
        "id": "V5qb72N1FCku",
        "colab": {
          "base_uri": "https://localhost:8080/",
          "height": 224
        },
        "outputId": "1cc65993-d15d-419a-da77-f35c321b45a8"
      },
      "source": [
        "print(\"Accuracy score %f\" % accuracy_score(Y_test, DT_pred))\n",
        "print(classification_report(Y_test, DT_pred))\n",
        "\n",
        "\"\"\"\n",
        "Accuracy score 1.000000\n",
        "              precision    recall  f1-score   support\n",
        "\n",
        "           0       1.00      1.00      1.00      3977\n",
        "           1       1.00      1.00      1.00        23\n",
        "\n",
        "    accuracy                           1.00      4000\n",
        "   macro avg       1.00      1.00      1.00      4000\n",
        "weighted avg       1.00      1.00      1.00      4000\n",
        "\"\"\""
      ],
      "execution_count": null,
      "outputs": [
        {
          "output_type": "stream",
          "text": [
            "Accuracy score 0.999750\n",
            "              precision    recall  f1-score   support\n",
            "\n",
            "           0       1.00      1.00      1.00      3981\n",
            "           1       1.00      0.95      0.97        19\n",
            "\n",
            "    accuracy                           1.00      4000\n",
            "   macro avg       1.00      0.97      0.99      4000\n",
            "weighted avg       1.00      1.00      1.00      4000\n",
            "\n"
          ],
          "name": "stdout"
        },
        {
          "output_type": "execute_result",
          "data": {
            "text/plain": [
              "'\\nAccuracy score 1.000000\\n              precision    recall  f1-score   support\\n\\n           0       1.00      1.00      1.00      3977\\n           1       1.00      1.00      1.00        23\\n\\n    accuracy                           1.00      4000\\n   macro avg       1.00      1.00      1.00      4000\\nweighted avg       1.00      1.00      1.00      4000\\n'"
            ]
          },
          "metadata": {
            "tags": []
          },
          "execution_count": 41
        }
      ]
    },
    {
      "cell_type": "code",
      "metadata": {
        "id": "veF8CoaY_Jdm",
        "colab": {
          "base_uri": "https://localhost:8080/",
          "height": 51
        },
        "outputId": "0842c47d-f271-4c5f-b3d9-de4afd12c204"
      },
      "source": [
        "!pip install pydotplus"
      ],
      "execution_count": null,
      "outputs": [
        {
          "output_type": "stream",
          "text": [
            "Requirement already satisfied: pydotplus in /usr/local/lib/python3.6/dist-packages (2.0.2)\n",
            "Requirement already satisfied: pyparsing>=2.0.1 in /usr/local/lib/python3.6/dist-packages (from pydotplus) (2.4.7)\n"
          ],
          "name": "stdout"
        }
      ]
    },
    {
      "cell_type": "code",
      "metadata": {
        "id": "-oGSeOf2_Jtk",
        "colab": {
          "base_uri": "https://localhost:8080/",
          "height": 54
        },
        "outputId": "ed07542d-8b4b-488b-feb0-06297c5d99d5"
      },
      "source": [
        "\"\"\"\n",
        "from sklearn.externals.six import StringIO\n",
        "import pydotplus\n",
        "import matplotlib.image as mpimg\n",
        "from sklearn import tree\n",
        "%matplotlib inline \n",
        "\n",
        "dot_data = StringIO()\n",
        "filename = \"creditcardfraudtree.png\"\n",
        "featureNames = data.columns[:-1]\n",
        "targetNames = data[\"Class\"].unique().tolist()\n",
        "out=tree.export_graphviz(DT,feature_names=featureNames, out_file=dot_data, class_names= np.unique(Y_train), filled=True,  special_characters=True,rotate=False)  \n",
        "graph = pydotplus.graph_from_dot_data(dot_data.getvalue())  \n",
        "graph.write_png(filename)\n",
        "img = mpimg.imread(filename)\n",
        "plt.figure(figsize=(100, 200))\n",
        "plt.imshow(img,interpolation='nearest')\"\"\""
      ],
      "execution_count": null,
      "outputs": [
        {
          "output_type": "execute_result",
          "data": {
            "text/plain": [
              "'\\nfrom sklearn.externals.six import StringIO\\nimport pydotplus\\nimport matplotlib.image as mpimg\\nfrom sklearn import tree\\n%matplotlib inline \\n\\ndot_data = StringIO()\\nfilename = \"creditcardfraudtree.png\"\\nfeatureNames = data.columns[:-1]\\ntargetNames = data[\"Class\"].unique().tolist()\\nout=tree.export_graphviz(DT,feature_names=featureNames, out_file=dot_data, class_names= np.unique(Y_train), filled=True,  special_characters=True,rotate=False)  \\ngraph = pydotplus.graph_from_dot_data(dot_data.getvalue())  \\ngraph.write_png(filename)\\nimg = mpimg.imread(filename)\\nplt.figure(figsize=(100, 200))\\nplt.imshow(img,interpolation=\\'nearest\\')'"
            ]
          },
          "metadata": {
            "tags": []
          },
          "execution_count": 43
        }
      ]
    },
    {
      "cell_type": "markdown",
      "metadata": {
        "id": "zFcVKYY7V715"
      },
      "source": [
        "#DECISON TREE BAGGING"
      ]
    },
    {
      "cell_type": "code",
      "metadata": {
        "id": "zvTIZqkeV6SU"
      },
      "source": [
        "from sklearn.ensemble import BaggingClassifier\n",
        "Bagging = BaggingClassifier(DecisionTreeClassifier(), max_samples=0.5, max_features=0.5)"
      ],
      "execution_count": null,
      "outputs": []
    },
    {
      "cell_type": "code",
      "metadata": {
        "id": "7H_XDDubV7D3",
        "colab": {
          "base_uri": "https://localhost:8080/",
          "height": 34
        },
        "outputId": "b2821f0d-1884-4e1b-fced-474fd5498d8a"
      },
      "source": [
        "Bagging.fit(X_train, Y_train)\n",
        "B_pred = Bagging.predict(X_test)\n",
        "print(Y_test, B_pred)"
      ],
      "execution_count": null,
      "outputs": [
        {
          "output_type": "stream",
          "text": [
            "[0 0 0 ... 0 0 0] [0 0 0 ... 0 0 0]\n"
          ],
          "name": "stdout"
        }
      ]
    },
    {
      "cell_type": "code",
      "metadata": {
        "id": "xp_fEWcTV7Ax",
        "colab": {
          "base_uri": "https://localhost:8080/",
          "height": 34
        },
        "outputId": "e6ddc869-715f-4f9e-e4ce-e042a4fad6f9"
      },
      "source": [
        "Bagging.score(X_test, Y_test)"
      ],
      "execution_count": null,
      "outputs": [
        {
          "output_type": "execute_result",
          "data": {
            "text/plain": [
              "0.99975"
            ]
          },
          "metadata": {
            "tags": []
          },
          "execution_count": 46
        }
      ]
    },
    {
      "cell_type": "code",
      "metadata": {
        "id": "LHA989gFc0cY",
        "colab": {
          "base_uri": "https://localhost:8080/",
          "height": 51
        },
        "outputId": "e2fe535d-e826-4b7b-c2ee-0b51d4e28a13"
      },
      "source": [
        "from sklearn.metrics import confusion_matrix\n",
        "cm = confusion_matrix(Y_test, B_pred)\n",
        "print(cm)"
      ],
      "execution_count": null,
      "outputs": [
        {
          "output_type": "stream",
          "text": [
            "[[3981    0]\n",
            " [   1   18]]\n"
          ],
          "name": "stdout"
        }
      ]
    },
    {
      "cell_type": "code",
      "metadata": {
        "id": "4bJoehLjQmXF",
        "colab": {
          "base_uri": "https://localhost:8080/",
          "height": 34
        },
        "outputId": "736d30f7-c008-4078-8940-0b4724e6a519"
      },
      "source": [
        "accuracy = accuracy_score(Y_test, B_pred)\n",
        "print(\"Accuracy: %.2f%%\" % (accuracy * 100.0))"
      ],
      "execution_count": null,
      "outputs": [
        {
          "output_type": "stream",
          "text": [
            "Accuracy: 99.98%\n"
          ],
          "name": "stdout"
        }
      ]
    },
    {
      "cell_type": "code",
      "metadata": {
        "id": "5TDyX9JPc0W4",
        "colab": {
          "base_uri": "https://localhost:8080/",
          "height": 224
        },
        "outputId": "e7d8f32c-98bc-4eee-ec89-a9fd239b5ed8"
      },
      "source": [
        "print(\"Accuracy score %f\" % accuracy_score(Y_test, B_pred))\n",
        "print(classification_report(Y_test, B_pred))\n",
        "\n",
        "\"\"\"\n",
        "Accuracy score 0.999500\n",
        "              precision    recall  f1-score   support\n",
        "\n",
        "           0       1.00      1.00      1.00      3977\n",
        "           1       1.00      0.91      0.95        23\n",
        "\n",
        "    accuracy                           1.00      4000\n",
        "   macro avg       1.00      0.96      0.98      4000\n",
        "weighted avg       1.00      1.00      1.00      4000\n",
        "\"\"\""
      ],
      "execution_count": null,
      "outputs": [
        {
          "output_type": "stream",
          "text": [
            "Accuracy score 0.999750\n",
            "              precision    recall  f1-score   support\n",
            "\n",
            "           0       1.00      1.00      1.00      3981\n",
            "           1       1.00      0.95      0.97        19\n",
            "\n",
            "    accuracy                           1.00      4000\n",
            "   macro avg       1.00      0.97      0.99      4000\n",
            "weighted avg       1.00      1.00      1.00      4000\n",
            "\n"
          ],
          "name": "stdout"
        },
        {
          "output_type": "execute_result",
          "data": {
            "text/plain": [
              "'\\nAccuracy score 0.999500\\n              precision    recall  f1-score   support\\n\\n           0       1.00      1.00      1.00      3977\\n           1       1.00      0.91      0.95        23\\n\\n    accuracy                           1.00      4000\\n   macro avg       1.00      0.96      0.98      4000\\nweighted avg       1.00      1.00      1.00      4000\\n'"
            ]
          },
          "metadata": {
            "tags": []
          },
          "execution_count": 49
        }
      ]
    },
    {
      "cell_type": "markdown",
      "metadata": {
        "id": "Ltwo4bpdfUJB"
      },
      "source": [
        "#EXTRA TREE CLASSFIER"
      ]
    },
    {
      "cell_type": "code",
      "metadata": {
        "id": "EVOxJXgyfYKV",
        "colab": {
          "base_uri": "https://localhost:8080/",
          "height": 34
        },
        "outputId": "02c76108-2865-4d80-b6d2-a2aac3fafe9c"
      },
      "source": [
        "from sklearn.ensemble import ExtraTreesClassifier\n",
        "ET = ExtraTreesClassifier(n_estimators=10, max_depth=None, min_samples_split=2, random_state=0)\n",
        "\n",
        "ET.fit(X_train, Y_train)\n",
        "ET.score(X_train, Y_train)\n",
        "\n",
        "ET_pred = ET.predict(X_test)\n",
        "ET.score(X_test, Y_test)"
      ],
      "execution_count": null,
      "outputs": [
        {
          "output_type": "execute_result",
          "data": {
            "text/plain": [
              "0.99975"
            ]
          },
          "metadata": {
            "tags": []
          },
          "execution_count": 50
        }
      ]
    },
    {
      "cell_type": "code",
      "metadata": {
        "id": "65zKOlAHfX-y",
        "colab": {
          "base_uri": "https://localhost:8080/",
          "height": 51
        },
        "outputId": "fb4775d9-6665-42d7-a2e5-df8514e7b193"
      },
      "source": [
        "from sklearn.metrics import confusion_matrix\n",
        "cm = confusion_matrix(Y_test, ET_pred)\n",
        "print(cm)"
      ],
      "execution_count": null,
      "outputs": [
        {
          "output_type": "stream",
          "text": [
            "[[3981    0]\n",
            " [   1   18]]\n"
          ],
          "name": "stdout"
        }
      ]
    },
    {
      "cell_type": "code",
      "metadata": {
        "id": "AFlomRnPQiGT",
        "colab": {
          "base_uri": "https://localhost:8080/",
          "height": 34
        },
        "outputId": "7a19a2e0-05ef-494e-cb30-009a0871c9fb"
      },
      "source": [
        "accuracy = accuracy_score(Y_test, ET_pred)\n",
        "print(\"Accuracy: %.2f%%\" % (accuracy * 100.0))"
      ],
      "execution_count": null,
      "outputs": [
        {
          "output_type": "stream",
          "text": [
            "Accuracy: 99.98%\n"
          ],
          "name": "stdout"
        }
      ]
    },
    {
      "cell_type": "code",
      "metadata": {
        "id": "in2vcWAJgUwx",
        "colab": {
          "base_uri": "https://localhost:8080/",
          "height": 224
        },
        "outputId": "82fb3bd2-e1a7-4e2a-a381-d19861ae03f2"
      },
      "source": [
        "print(\"Accuracy score %f\" % accuracy_score(Y_test, ET_pred))\n",
        "print(classification_report(Y_test, ET_pred))\n",
        "\n",
        "\"\"\"\n",
        "Accuracy score 0.999250\n",
        "              precision    recall  f1-score   support\n",
        "\n",
        "           0       1.00      1.00      1.00      3977\n",
        "           1       1.00      0.87      0.93        23\n",
        "\n",
        "    accuracy                           1.00      4000\n",
        "   macro avg       1.00      0.93      0.96      4000\n",
        "weighted avg       1.00      1.00      1.00      4000\n",
        "\"\"\""
      ],
      "execution_count": null,
      "outputs": [
        {
          "output_type": "stream",
          "text": [
            "Accuracy score 0.999750\n",
            "              precision    recall  f1-score   support\n",
            "\n",
            "           0       1.00      1.00      1.00      3981\n",
            "           1       1.00      0.95      0.97        19\n",
            "\n",
            "    accuracy                           1.00      4000\n",
            "   macro avg       1.00      0.97      0.99      4000\n",
            "weighted avg       1.00      1.00      1.00      4000\n",
            "\n"
          ],
          "name": "stdout"
        },
        {
          "output_type": "execute_result",
          "data": {
            "text/plain": [
              "'\\nAccuracy score 0.999250\\n              precision    recall  f1-score   support\\n\\n           0       1.00      1.00      1.00      3977\\n           1       1.00      0.87      0.93        23\\n\\n    accuracy                           1.00      4000\\n   macro avg       1.00      0.93      0.96      4000\\nweighted avg       1.00      1.00      1.00      4000\\n'"
            ]
          },
          "metadata": {
            "tags": []
          },
          "execution_count": 53
        }
      ]
    },
    {
      "cell_type": "markdown",
      "metadata": {
        "id": "nZyd_Hfz2oLo"
      },
      "source": [
        "#RF"
      ]
    },
    {
      "cell_type": "code",
      "metadata": {
        "id": "QiR0t-PM2NMZ",
        "colab": {
          "base_uri": "https://localhost:8080/",
          "height": 34
        },
        "outputId": "55611f61-5675-40d0-f3f6-269013998502"
      },
      "source": [
        "sc_X = StandardScaler()\n",
        "X_train = sc_X.fit_transform(X_train)\n",
        "X_test = sc_X.transform(X_test)\n",
        "\n",
        "X = X.reshape(-1,1)\n",
        "Y = Y.reshape(-1,1)\n",
        "\n",
        "from sklearn.ensemble import RandomForestClassifier\n",
        "RF = RandomForestClassifier(criterion='entropy', random_state=0)\n",
        "RF.fit(X_train,Y_train)\n",
        "RF_pred = RF.predict(X_test)\n",
        "RF.score(X_test, Y_test)"
      ],
      "execution_count": null,
      "outputs": [
        {
          "output_type": "execute_result",
          "data": {
            "text/plain": [
              "0.9995"
            ]
          },
          "metadata": {
            "tags": []
          },
          "execution_count": 54
        }
      ]
    },
    {
      "cell_type": "code",
      "metadata": {
        "id": "DfNHsez_2THS",
        "colab": {
          "base_uri": "https://localhost:8080/",
          "height": 51
        },
        "outputId": "a20d0891-3b58-45df-f1ca-6454889c295b"
      },
      "source": [
        "from sklearn.metrics import confusion_matrix\n",
        "cm = confusion_matrix(Y_test, RF_pred)\n",
        "print(cm)"
      ],
      "execution_count": null,
      "outputs": [
        {
          "output_type": "stream",
          "text": [
            "[[3980    1]\n",
            " [   1   18]]\n"
          ],
          "name": "stdout"
        }
      ]
    },
    {
      "cell_type": "code",
      "metadata": {
        "id": "4fn_dacEQTpE",
        "colab": {
          "base_uri": "https://localhost:8080/",
          "height": 34
        },
        "outputId": "424a98f3-ecc0-4446-9261-4a8cdfb45e72"
      },
      "source": [
        "accuracy = accuracy_score(Y_test, RF_pred)\n",
        "print(\"Accuracy: %.2f%%\" % (accuracy * 100.0))"
      ],
      "execution_count": null,
      "outputs": [
        {
          "output_type": "stream",
          "text": [
            "Accuracy: 99.95%\n"
          ],
          "name": "stdout"
        }
      ]
    },
    {
      "cell_type": "code",
      "metadata": {
        "id": "PZpLlxwEFNll",
        "colab": {
          "base_uri": "https://localhost:8080/",
          "height": 224
        },
        "outputId": "9fc2d586-a906-4db5-b212-3959f87a5fe6"
      },
      "source": [
        "print(\"Accuracy score %f\" % accuracy_score(Y_test, RF_pred))\n",
        "print(classification_report(Y_test, RF_pred))\n",
        "\n",
        "\"\"\"\n",
        "Accuracy score 0.999500\n",
        "              precision    recall  f1-score   support\n",
        "\n",
        "           0       1.00      1.00      1.00      3977\n",
        "           1       1.00      0.91      0.95        23\n",
        "\n",
        "    accuracy                           1.00      4000\n",
        "   macro avg       1.00      0.96      0.98      4000\n",
        "weighted avg       1.00      1.00      1.00      4000\n",
        "\"\"\""
      ],
      "execution_count": null,
      "outputs": [
        {
          "output_type": "stream",
          "text": [
            "Accuracy score 0.999500\n",
            "              precision    recall  f1-score   support\n",
            "\n",
            "           0       1.00      1.00      1.00      3981\n",
            "           1       0.95      0.95      0.95        19\n",
            "\n",
            "    accuracy                           1.00      4000\n",
            "   macro avg       0.97      0.97      0.97      4000\n",
            "weighted avg       1.00      1.00      1.00      4000\n",
            "\n"
          ],
          "name": "stdout"
        },
        {
          "output_type": "execute_result",
          "data": {
            "text/plain": [
              "'\\nAccuracy score 0.999500\\n              precision    recall  f1-score   support\\n\\n           0       1.00      1.00      1.00      3977\\n           1       1.00      0.91      0.95        23\\n\\n    accuracy                           1.00      4000\\n   macro avg       1.00      0.96      0.98      4000\\nweighted avg       1.00      1.00      1.00      4000\\n'"
            ]
          },
          "metadata": {
            "tags": []
          },
          "execution_count": 57
        }
      ]
    },
    {
      "cell_type": "markdown",
      "metadata": {
        "id": "Mzr01v1ThHp3"
      },
      "source": [
        "#GRADIANT DESCENT CLASSIFIER"
      ]
    },
    {
      "cell_type": "code",
      "metadata": {
        "id": "eBjwDnwdhZFW",
        "colab": {
          "base_uri": "https://localhost:8080/",
          "height": 34
        },
        "outputId": "027884ba-e258-4544-feab-893395eb0000"
      },
      "source": [
        "from sklearn.ensemble import GradientBoostingClassifier\n",
        "GB = GradientBoostingClassifier(n_estimators=100, learning_rate=1.0, max_depth=1, random_state=0)\n",
        "GB.fit(X_train, Y_train)\n",
        "\n",
        "GB_pred = GB.predict(X_test)\n",
        "GB.score(X_test, Y_test)"
      ],
      "execution_count": null,
      "outputs": [
        {
          "output_type": "execute_result",
          "data": {
            "text/plain": [
              "0.999"
            ]
          },
          "metadata": {
            "tags": []
          },
          "execution_count": 58
        }
      ]
    },
    {
      "cell_type": "code",
      "metadata": {
        "id": "c7X4yjnWhY_p",
        "colab": {
          "base_uri": "https://localhost:8080/",
          "height": 51
        },
        "outputId": "f551459f-a032-46a2-ab5e-85e54243a2fc"
      },
      "source": [
        "from sklearn.metrics import confusion_matrix\n",
        "cm = confusion_matrix(Y_test, GB_pred)\n",
        "print(cm)"
      ],
      "execution_count": null,
      "outputs": [
        {
          "output_type": "stream",
          "text": [
            "[[3977    4]\n",
            " [   0   19]]\n"
          ],
          "name": "stdout"
        }
      ]
    },
    {
      "cell_type": "code",
      "metadata": {
        "id": "97yLVNwHQLMN",
        "colab": {
          "base_uri": "https://localhost:8080/",
          "height": 34
        },
        "outputId": "a575307a-ef61-4574-f52f-4ce588b2ab54"
      },
      "source": [
        "accuracy = accuracy_score(Y_test, GB_pred)\n",
        "print(\"Accuracy: %.2f%%\" % (accuracy * 100.0))"
      ],
      "execution_count": null,
      "outputs": [
        {
          "output_type": "stream",
          "text": [
            "Accuracy: 99.90%\n"
          ],
          "name": "stdout"
        }
      ]
    },
    {
      "cell_type": "code",
      "metadata": {
        "id": "vZaponhRhY9E",
        "colab": {
          "base_uri": "https://localhost:8080/",
          "height": 224
        },
        "outputId": "fdf646a8-7c02-4325-aef4-edae14185e87"
      },
      "source": [
        "print(\"Accuracy score %f\" % accuracy_score(Y_test, GB_pred))\n",
        "print(classification_report(Y_test, GB_pred))\n",
        "\n",
        "\"\"\"\n",
        "Accuracy score 0.998250\n",
        "              precision    recall  f1-score   support\n",
        "\n",
        "           0       1.00      1.00      1.00      3977\n",
        "           1       0.81      0.91      0.86        23\n",
        "\n",
        "    accuracy                           1.00      4000\n",
        "   macro avg       0.90      0.96      0.93      4000\n",
        "weighted avg       1.00      1.00      1.00      4000\n",
        "\"\"\""
      ],
      "execution_count": null,
      "outputs": [
        {
          "output_type": "stream",
          "text": [
            "Accuracy score 0.999000\n",
            "              precision    recall  f1-score   support\n",
            "\n",
            "           0       1.00      1.00      1.00      3981\n",
            "           1       0.83      1.00      0.90        19\n",
            "\n",
            "    accuracy                           1.00      4000\n",
            "   macro avg       0.91      1.00      0.95      4000\n",
            "weighted avg       1.00      1.00      1.00      4000\n",
            "\n"
          ],
          "name": "stdout"
        },
        {
          "output_type": "execute_result",
          "data": {
            "text/plain": [
              "'\\nAccuracy score 0.998250\\n              precision    recall  f1-score   support\\n\\n           0       1.00      1.00      1.00      3977\\n           1       0.81      0.91      0.86        23\\n\\n    accuracy                           1.00      4000\\n   macro avg       0.90      0.96      0.93      4000\\nweighted avg       1.00      1.00      1.00      4000\\n'"
            ]
          },
          "metadata": {
            "tags": []
          },
          "execution_count": 61
        }
      ]
    },
    {
      "cell_type": "markdown",
      "metadata": {
        "id": "MNRXrNXEH6wv"
      },
      "source": [
        "#XGBOOST"
      ]
    },
    {
      "cell_type": "code",
      "metadata": {
        "id": "l4V9tFc9H5fv"
      },
      "source": [
        "import xgboost\n",
        "\n",
        "XGB = xgboost.XGBClassifier(n_estimators=100, learning_rate=0.08, gamma=0, subsample=0.75)\n",
        "XGB.fit(X_train, Y_train , verbose=False)\n",
        "\n",
        "XGB_pred = XGB.predict(X_test)"
      ],
      "execution_count": null,
      "outputs": []
    },
    {
      "cell_type": "code",
      "metadata": {
        "id": "DOdxtHHyO44m",
        "colab": {
          "base_uri": "https://localhost:8080/",
          "height": 34
        },
        "outputId": "c987b94a-948b-42da-d661-a73810522e1f"
      },
      "source": [
        "\"\"\"XGBPred = []\n",
        "for i in XGB_pred:\n",
        "  for k in i:\n",
        "    XGBPred.append(str(int(k)))\n",
        "\n",
        "XGBPred = np.array(XGBPred)\n",
        "XGBPred\"\"\""
      ],
      "execution_count": null,
      "outputs": [
        {
          "output_type": "execute_result",
          "data": {
            "text/plain": [
              "'XGBPred = []\\nfor i in XGB_pred:\\n  for k in i:\\n    XGBPred.append(str(int(k)))\\n\\nXGBPred = np.array(XGBPred)\\nXGBPred'"
            ]
          },
          "metadata": {
            "tags": []
          },
          "execution_count": 63
        }
      ]
    },
    {
      "cell_type": "code",
      "metadata": {
        "id": "hsnTJsQ5O5js",
        "colab": {
          "base_uri": "https://localhost:8080/",
          "height": 34
        },
        "outputId": "a4e909ec-15c9-4e23-9189-4c2d81adcfbf"
      },
      "source": [
        "accuracy = accuracy_score(Y_test, XGB_pred)\n",
        "print(\"Accuracy: %.2f%%\" % (accuracy * 100.0))"
      ],
      "execution_count": null,
      "outputs": [
        {
          "output_type": "stream",
          "text": [
            "Accuracy: 99.95%\n"
          ],
          "name": "stdout"
        }
      ]
    },
    {
      "cell_type": "code",
      "metadata": {
        "id": "XfWSO9s4Phs5",
        "colab": {
          "base_uri": "https://localhost:8080/",
          "height": 224
        },
        "outputId": "d60dbabb-f955-41c9-ccd5-ab95daa8bc9d"
      },
      "source": [
        "print(\"Accuracy score %f\" % accuracy_score(Y_test, XGB_pred))\n",
        "print(classification_report(Y_test, XGB_pred))\n",
        "\n",
        "\"\"\"\n",
        "Accuracy score 0.999750\n",
        "              precision    recall  f1-score   support\n",
        "\n",
        "           0       1.00      1.00      1.00      3981\n",
        "           1       0.95      1.00      0.97        19\n",
        "\n",
        "    accuracy                           1.00      4000\n",
        "   macro avg       0.97      1.00      0.99      4000\n",
        "weighted avg       1.00      1.00      1.00      4000\n",
        "\"\"\""
      ],
      "execution_count": null,
      "outputs": [
        {
          "output_type": "stream",
          "text": [
            "Accuracy score 0.999500\n",
            "              precision    recall  f1-score   support\n",
            "\n",
            "           0       1.00      1.00      1.00      3981\n",
            "           1       0.95      0.95      0.95        19\n",
            "\n",
            "    accuracy                           1.00      4000\n",
            "   macro avg       0.97      0.97      0.97      4000\n",
            "weighted avg       1.00      1.00      1.00      4000\n",
            "\n"
          ],
          "name": "stdout"
        },
        {
          "output_type": "execute_result",
          "data": {
            "text/plain": [
              "'\\nAccuracy score 0.999750\\n              precision    recall  f1-score   support\\n\\n           0       1.00      1.00      1.00      3981\\n           1       0.95      1.00      0.97        19\\n\\n    accuracy                           1.00      4000\\n   macro avg       0.97      1.00      0.99      4000\\nweighted avg       1.00      1.00      1.00      4000\\n'"
            ]
          },
          "metadata": {
            "tags": []
          },
          "execution_count": 65
        }
      ]
    },
    {
      "cell_type": "markdown",
      "metadata": {
        "id": "o2NV_zuNP3vE"
      },
      "source": [
        "#ADABOOST"
      ]
    },
    {
      "cell_type": "code",
      "metadata": {
        "id": "awv3ur1UP6kr"
      },
      "source": [
        "from sklearn.ensemble import AdaBoostClassifier\n",
        "ADABoost = AdaBoostClassifier()\n",
        "ADABoost.fit(X_train, Y_train)\n",
        "\n",
        "ADAB_pred = ADABoost.predict(X_test)"
      ],
      "execution_count": null,
      "outputs": []
    },
    {
      "cell_type": "code",
      "metadata": {
        "id": "tF9stKJ-P6iS",
        "colab": {
          "base_uri": "https://localhost:8080/",
          "height": 34
        },
        "outputId": "68ae4f54-53d5-427c-f536-f25f04de3897"
      },
      "source": [
        "\"\"\"ADABPred = []\n",
        "for i in ADAB_pred:\n",
        "  for k in i:\n",
        "    ADABPred.append(str(int(k)))\n",
        "\n",
        "ADABPred = np.array(ADABPred)\n",
        "ADABPred\"\"\""
      ],
      "execution_count": null,
      "outputs": [
        {
          "output_type": "execute_result",
          "data": {
            "text/plain": [
              "'ADABPred = []\\nfor i in ADAB_pred:\\n  for k in i:\\n    ADABPred.append(str(int(k)))\\n\\nADABPred = np.array(ADABPred)\\nADABPred'"
            ]
          },
          "metadata": {
            "tags": []
          },
          "execution_count": 68
        }
      ]
    },
    {
      "cell_type": "code",
      "metadata": {
        "id": "u-FsxAUWP6gK",
        "colab": {
          "base_uri": "https://localhost:8080/",
          "height": 34
        },
        "outputId": "0ae10b2a-80bf-44a5-9554-0ad55935f081"
      },
      "source": [
        "accuracy = accuracy_score(Y_test, ADAB_pred)\n",
        "print(\"Accuracy: %.2f%%\" % (accuracy * 100.0))"
      ],
      "execution_count": null,
      "outputs": [
        {
          "output_type": "stream",
          "text": [
            "Accuracy: 99.92%\n"
          ],
          "name": "stdout"
        }
      ]
    },
    {
      "cell_type": "code",
      "metadata": {
        "id": "YFmzqheIPzkm",
        "colab": {
          "base_uri": "https://localhost:8080/",
          "height": 224
        },
        "outputId": "f80f576a-1d51-4694-e23f-cf996e328af7"
      },
      "source": [
        "print(\"Accuracy score %f\" % accuracy_score(Y_test, ADAB_pred))\n",
        "print(classification_report(Y_test, ADAB_pred))\n",
        "\n",
        "\"\"\"\n",
        "Accuracy score 0.999000\n",
        "              precision    recall  f1-score   support\n",
        "\n",
        "           0       1.00      1.00      1.00      3989\n",
        "           1       1.00      0.64      0.78        11\n",
        "\n",
        "    accuracy                           1.00      4000\n",
        "   macro avg       1.00      0.82      0.89      4000\n",
        "weighted avg       1.00      1.00      1.00      4000\n",
        "\"\"\""
      ],
      "execution_count": null,
      "outputs": [
        {
          "output_type": "stream",
          "text": [
            "Accuracy score 0.999250\n",
            "              precision    recall  f1-score   support\n",
            "\n",
            "           0       1.00      1.00      1.00      3981\n",
            "           1       0.90      0.95      0.92        19\n",
            "\n",
            "    accuracy                           1.00      4000\n",
            "   macro avg       0.95      0.97      0.96      4000\n",
            "weighted avg       1.00      1.00      1.00      4000\n",
            "\n"
          ],
          "name": "stdout"
        },
        {
          "output_type": "execute_result",
          "data": {
            "text/plain": [
              "'\\nAccuracy score 0.999000\\n              precision    recall  f1-score   support\\n\\n           0       1.00      1.00      1.00      3989\\n           1       1.00      0.64      0.78        11\\n\\n    accuracy                           1.00      4000\\n   macro avg       1.00      0.82      0.89      4000\\nweighted avg       1.00      1.00      1.00      4000\\n'"
            ]
          },
          "metadata": {
            "tags": []
          },
          "execution_count": 70
        }
      ]
    },
    {
      "cell_type": "markdown",
      "metadata": {
        "id": "HWm6WYhm4Fgj"
      },
      "source": [
        "#ANN"
      ]
    },
    {
      "cell_type": "code",
      "metadata": {
        "id": "eMxQuu8W4NZi",
        "colab": {
          "base_uri": "https://localhost:8080/",
          "height": 462
        },
        "outputId": "6fe69ea6-6d0c-486f-a3d2-e45d0e312a5e"
      },
      "source": [
        "from keras.models import Sequential\n",
        "from keras.layers import Convolution2D\n",
        "from keras.layers import MaxPooling2D\n",
        "from keras.layers import Flatten\n",
        "from keras.layers import Dense\n",
        "from tensorflow import keras"
      ],
      "execution_count": null,
      "outputs": [
        {
          "output_type": "stream",
          "text": [
            "Using TensorFlow backend.\n",
            "/usr/local/lib/python3.6/dist-packages/tensorflow/python/framework/dtypes.py:516: FutureWarning: Passing (type, 1) or '1type' as a synonym of type is deprecated; in a future version of numpy, it will be understood as (type, (1,)) / '(1,)type'.\n",
            "  _np_qint8 = np.dtype([(\"qint8\", np.int8, 1)])\n",
            "/usr/local/lib/python3.6/dist-packages/tensorflow/python/framework/dtypes.py:517: FutureWarning: Passing (type, 1) or '1type' as a synonym of type is deprecated; in a future version of numpy, it will be understood as (type, (1,)) / '(1,)type'.\n",
            "  _np_quint8 = np.dtype([(\"quint8\", np.uint8, 1)])\n",
            "/usr/local/lib/python3.6/dist-packages/tensorflow/python/framework/dtypes.py:518: FutureWarning: Passing (type, 1) or '1type' as a synonym of type is deprecated; in a future version of numpy, it will be understood as (type, (1,)) / '(1,)type'.\n",
            "  _np_qint16 = np.dtype([(\"qint16\", np.int16, 1)])\n",
            "/usr/local/lib/python3.6/dist-packages/tensorflow/python/framework/dtypes.py:519: FutureWarning: Passing (type, 1) or '1type' as a synonym of type is deprecated; in a future version of numpy, it will be understood as (type, (1,)) / '(1,)type'.\n",
            "  _np_quint16 = np.dtype([(\"quint16\", np.uint16, 1)])\n",
            "/usr/local/lib/python3.6/dist-packages/tensorflow/python/framework/dtypes.py:520: FutureWarning: Passing (type, 1) or '1type' as a synonym of type is deprecated; in a future version of numpy, it will be understood as (type, (1,)) / '(1,)type'.\n",
            "  _np_qint32 = np.dtype([(\"qint32\", np.int32, 1)])\n",
            "/usr/local/lib/python3.6/dist-packages/tensorflow/python/framework/dtypes.py:525: FutureWarning: Passing (type, 1) or '1type' as a synonym of type is deprecated; in a future version of numpy, it will be understood as (type, (1,)) / '(1,)type'.\n",
            "  np_resource = np.dtype([(\"resource\", np.ubyte, 1)])\n",
            "/usr/local/lib/python3.6/dist-packages/tensorboard/compat/tensorflow_stub/dtypes.py:541: FutureWarning: Passing (type, 1) or '1type' as a synonym of type is deprecated; in a future version of numpy, it will be understood as (type, (1,)) / '(1,)type'.\n",
            "  _np_qint8 = np.dtype([(\"qint8\", np.int8, 1)])\n",
            "/usr/local/lib/python3.6/dist-packages/tensorboard/compat/tensorflow_stub/dtypes.py:542: FutureWarning: Passing (type, 1) or '1type' as a synonym of type is deprecated; in a future version of numpy, it will be understood as (type, (1,)) / '(1,)type'.\n",
            "  _np_quint8 = np.dtype([(\"quint8\", np.uint8, 1)])\n",
            "/usr/local/lib/python3.6/dist-packages/tensorboard/compat/tensorflow_stub/dtypes.py:543: FutureWarning: Passing (type, 1) or '1type' as a synonym of type is deprecated; in a future version of numpy, it will be understood as (type, (1,)) / '(1,)type'.\n",
            "  _np_qint16 = np.dtype([(\"qint16\", np.int16, 1)])\n",
            "/usr/local/lib/python3.6/dist-packages/tensorboard/compat/tensorflow_stub/dtypes.py:544: FutureWarning: Passing (type, 1) or '1type' as a synonym of type is deprecated; in a future version of numpy, it will be understood as (type, (1,)) / '(1,)type'.\n",
            "  _np_quint16 = np.dtype([(\"quint16\", np.uint16, 1)])\n",
            "/usr/local/lib/python3.6/dist-packages/tensorboard/compat/tensorflow_stub/dtypes.py:545: FutureWarning: Passing (type, 1) or '1type' as a synonym of type is deprecated; in a future version of numpy, it will be understood as (type, (1,)) / '(1,)type'.\n",
            "  _np_qint32 = np.dtype([(\"qint32\", np.int32, 1)])\n",
            "/usr/local/lib/python3.6/dist-packages/tensorboard/compat/tensorflow_stub/dtypes.py:550: FutureWarning: Passing (type, 1) or '1type' as a synonym of type is deprecated; in a future version of numpy, it will be understood as (type, (1,)) / '(1,)type'.\n",
            "  np_resource = np.dtype([(\"resource\", np.ubyte, 1)])\n"
          ],
          "name": "stderr"
        }
      ]
    },
    {
      "cell_type": "code",
      "metadata": {
        "id": "NnOZLU9mNdNL"
      },
      "source": [
        "Y = df['Class'].values\n",
        "X = df.drop('Class', axis=1).values\n",
        "\n",
        "X_train, X_test, Y_train, Y_test = train_test_split (X, Y, test_size = 0.20)"
      ],
      "execution_count": null,
      "outputs": []
    },
    {
      "cell_type": "code",
      "metadata": {
        "id": "qLxVmwKG7fVi"
      },
      "source": [
        "sc_X = StandardScaler()\n",
        "X_train = sc_X.fit_transform(X_train)\n",
        "X_test =sc_X.transform(X_test)"
      ],
      "execution_count": null,
      "outputs": []
    },
    {
      "cell_type": "code",
      "metadata": {
        "id": "DoYzMitY7kdw",
        "colab": {
          "base_uri": "https://localhost:8080/",
          "height": 255
        },
        "outputId": "56e68416-d7e0-4ad4-8f96-aba956096d56"
      },
      "source": [
        "model = Sequential()\n",
        "\n",
        "model.add(Dense(units = 100, activation = 'relu', input_shape=(30,)))\n",
        "\n",
        "model.add(Dense(units = 50, activation = 'relu'))\n",
        "\n",
        "model.add(Dense(units = 1, activation = 'sigmoid'))\n",
        "\n",
        "model.summary()"
      ],
      "execution_count": null,
      "outputs": [
        {
          "output_type": "stream",
          "text": [
            "Model: \"sequential_1\"\n",
            "_________________________________________________________________\n",
            "Layer (type)                 Output Shape              Param #   \n",
            "=================================================================\n",
            "dense_1 (Dense)              (None, 100)               3100      \n",
            "_________________________________________________________________\n",
            "dense_2 (Dense)              (None, 50)                5050      \n",
            "_________________________________________________________________\n",
            "dense_3 (Dense)              (None, 1)                 51        \n",
            "=================================================================\n",
            "Total params: 8,201\n",
            "Trainable params: 8,201\n",
            "Non-trainable params: 0\n",
            "_________________________________________________________________\n"
          ],
          "name": "stdout"
        }
      ]
    },
    {
      "cell_type": "code",
      "metadata": {
        "id": "ygsKy91V7wKC",
        "colab": {
          "base_uri": "https://localhost:8080/",
          "height": 1000
        },
        "outputId": "d8663c56-af33-455d-b4b5-caae68bb6a2e"
      },
      "source": [
        "model.compile(optimizer = 'adam', loss = 'binary_crossentropy', metrics = ['accuracy'])\n",
        "model.fit(X_train, Y_train, batch_size = 50, nb_epoch = 500)"
      ],
      "execution_count": null,
      "outputs": [
        {
          "output_type": "stream",
          "text": [
            "WARNING:tensorflow:From /usr/local/lib/python3.6/dist-packages/tensorflow/python/ops/nn_impl.py:182: add_dispatch_support.<locals>.wrapper (from tensorflow.python.ops.array_ops) is deprecated and will be removed in a future version.\n",
            "Instructions for updating:\n",
            "Use tf.where in 2.0, which has the same broadcast rule as np.where\n"
          ],
          "name": "stdout"
        },
        {
          "output_type": "stream",
          "text": [
            "/usr/local/lib/python3.6/dist-packages/ipykernel_launcher.py:2: UserWarning: The `nb_epoch` argument in `fit` has been renamed `epochs`.\n",
            "  \n"
          ],
          "name": "stderr"
        },
        {
          "output_type": "stream",
          "text": [
            "Epoch 1/500\n",
            "227845/227845 [==============================] - 6s 28us/step - loss: 0.0063 - accuracy: 0.9991\n",
            "Epoch 2/500\n",
            "227845/227845 [==============================] - 6s 27us/step - loss: 0.0031 - accuracy: 0.9994\n",
            "Epoch 3/500\n",
            "227845/227845 [==============================] - 6s 27us/step - loss: 0.0028 - accuracy: 0.9994\n",
            "Epoch 4/500\n",
            "227845/227845 [==============================] - 6s 27us/step - loss: 0.0024 - accuracy: 0.9995\n",
            "Epoch 5/500\n",
            "227845/227845 [==============================] - 6s 28us/step - loss: 0.0023 - accuracy: 0.9995\n",
            "Epoch 6/500\n",
            "227845/227845 [==============================] - 6s 28us/step - loss: 0.0021 - accuracy: 0.9995\n",
            "Epoch 7/500\n",
            "227845/227845 [==============================] - 6s 27us/step - loss: 0.0019 - accuracy: 0.9996\n",
            "Epoch 8/500\n",
            "227845/227845 [==============================] - 6s 27us/step - loss: 0.0019 - accuracy: 0.9995\n",
            "Epoch 9/500\n",
            "227845/227845 [==============================] - 6s 27us/step - loss: 0.0016 - accuracy: 0.9996\n",
            "Epoch 10/500\n",
            "227845/227845 [==============================] - 6s 28us/step - loss: 0.0015 - accuracy: 0.9996\n",
            "Epoch 11/500\n",
            "227845/227845 [==============================] - 6s 27us/step - loss: 0.0015 - accuracy: 0.9996\n",
            "Epoch 12/500\n",
            "227845/227845 [==============================] - 6s 27us/step - loss: 0.0014 - accuracy: 0.9996\n",
            "Epoch 13/500\n",
            "227845/227845 [==============================] - 6s 27us/step - loss: 0.0013 - accuracy: 0.9996\n",
            "Epoch 14/500\n",
            "227845/227845 [==============================] - 6s 27us/step - loss: 0.0015 - accuracy: 0.9997\n",
            "Epoch 15/500\n",
            "227845/227845 [==============================] - 6s 27us/step - loss: 0.0012 - accuracy: 0.9997\n",
            "Epoch 16/500\n",
            "227845/227845 [==============================] - 6s 27us/step - loss: 0.0011 - accuracy: 0.9997\n",
            "Epoch 17/500\n",
            "227845/227845 [==============================] - 6s 27us/step - loss: 0.0011 - accuracy: 0.9997\n",
            "Epoch 18/500\n",
            "227845/227845 [==============================] - 6s 27us/step - loss: 0.0011 - accuracy: 0.9997\n",
            "Epoch 19/500\n",
            "227845/227845 [==============================] - 6s 28us/step - loss: 0.0010 - accuracy: 0.9997\n",
            "Epoch 20/500\n",
            "227845/227845 [==============================] - 6s 28us/step - loss: 8.9692e-04 - accuracy: 0.9997\n",
            "Epoch 21/500\n",
            "227845/227845 [==============================] - 6s 28us/step - loss: 8.9367e-04 - accuracy: 0.9997\n",
            "Epoch 22/500\n",
            "227845/227845 [==============================] - 6s 28us/step - loss: 8.3463e-04 - accuracy: 0.9998\n",
            "Epoch 23/500\n",
            "227845/227845 [==============================] - 6s 28us/step - loss: 8.5328e-04 - accuracy: 0.9998\n",
            "Epoch 24/500\n",
            "227845/227845 [==============================] - 6s 28us/step - loss: 7.9720e-04 - accuracy: 0.9997\n",
            "Epoch 25/500\n",
            "227845/227845 [==============================] - 6s 28us/step - loss: 8.5995e-04 - accuracy: 0.9997\n",
            "Epoch 26/500\n",
            "227845/227845 [==============================] - 6s 28us/step - loss: 7.1956e-04 - accuracy: 0.9998\n",
            "Epoch 27/500\n",
            "227845/227845 [==============================] - 6s 28us/step - loss: 7.9557e-04 - accuracy: 0.9998\n",
            "Epoch 28/500\n",
            "227845/227845 [==============================] - 6s 28us/step - loss: 6.1946e-04 - accuracy: 0.9998\n",
            "Epoch 29/500\n",
            "227845/227845 [==============================] - 6s 28us/step - loss: 6.5365e-04 - accuracy: 0.9998\n",
            "Epoch 30/500\n",
            "227845/227845 [==============================] - 7s 30us/step - loss: 7.2125e-04 - accuracy: 0.9998\n",
            "Epoch 31/500\n",
            "227845/227845 [==============================] - 7s 29us/step - loss: 5.7845e-04 - accuracy: 0.9998\n",
            "Epoch 32/500\n",
            "227845/227845 [==============================] - 7s 29us/step - loss: 5.1822e-04 - accuracy: 0.9998\n",
            "Epoch 33/500\n",
            "227845/227845 [==============================] - 7s 29us/step - loss: 6.3177e-04 - accuracy: 0.9998\n",
            "Epoch 34/500\n",
            "227845/227845 [==============================] - 6s 27us/step - loss: 6.3415e-04 - accuracy: 0.9998\n",
            "Epoch 35/500\n",
            "227845/227845 [==============================] - 6s 28us/step - loss: 8.3755e-04 - accuracy: 0.9998\n",
            "Epoch 36/500\n",
            "227845/227845 [==============================] - 6s 28us/step - loss: 6.1220e-04 - accuracy: 0.9998\n",
            "Epoch 37/500\n",
            "227845/227845 [==============================] - 6s 28us/step - loss: 6.7466e-04 - accuracy: 0.9998\n",
            "Epoch 38/500\n",
            "227845/227845 [==============================] - 6s 28us/step - loss: 6.4958e-04 - accuracy: 0.9998\n",
            "Epoch 39/500\n",
            "227845/227845 [==============================] - 6s 28us/step - loss: 5.1637e-04 - accuracy: 0.9999\n",
            "Epoch 40/500\n",
            "227845/227845 [==============================] - 6s 28us/step - loss: 5.9149e-04 - accuracy: 0.9998\n",
            "Epoch 41/500\n",
            "227845/227845 [==============================] - 6s 28us/step - loss: 6.5492e-04 - accuracy: 0.9998\n",
            "Epoch 42/500\n",
            "227845/227845 [==============================] - 6s 28us/step - loss: 5.0611e-04 - accuracy: 0.9998\n",
            "Epoch 43/500\n",
            "227845/227845 [==============================] - 6s 28us/step - loss: 6.4743e-04 - accuracy: 0.9998\n",
            "Epoch 44/500\n",
            "227845/227845 [==============================] - 6s 27us/step - loss: 4.1348e-04 - accuracy: 0.9999\n",
            "Epoch 45/500\n",
            "227845/227845 [==============================] - 6s 28us/step - loss: 4.8710e-04 - accuracy: 0.9998\n",
            "Epoch 46/500\n",
            "227845/227845 [==============================] - 6s 27us/step - loss: 4.3501e-04 - accuracy: 0.9998\n",
            "Epoch 47/500\n",
            "227845/227845 [==============================] - 6s 27us/step - loss: 4.1121e-04 - accuracy: 0.9999\n",
            "Epoch 48/500\n",
            "227845/227845 [==============================] - 6s 27us/step - loss: 4.8146e-04 - accuracy: 0.9998\n",
            "Epoch 49/500\n",
            "227845/227845 [==============================] - 6s 27us/step - loss: 4.8001e-04 - accuracy: 0.9998\n",
            "Epoch 50/500\n",
            "227845/227845 [==============================] - 6s 28us/step - loss: 3.8555e-04 - accuracy: 0.9999\n",
            "Epoch 51/500\n",
            "227845/227845 [==============================] - 6s 27us/step - loss: 5.3295e-04 - accuracy: 0.9999\n",
            "Epoch 52/500\n",
            "227845/227845 [==============================] - 6s 28us/step - loss: 3.4058e-04 - accuracy: 0.9999\n",
            "Epoch 53/500\n",
            "227845/227845 [==============================] - 6s 28us/step - loss: 4.5479e-04 - accuracy: 0.9999\n",
            "Epoch 54/500\n",
            "227845/227845 [==============================] - 6s 28us/step - loss: 3.5669e-04 - accuracy: 0.9999\n",
            "Epoch 55/500\n",
            "227845/227845 [==============================] - 6s 28us/step - loss: 4.0467e-04 - accuracy: 0.9999\n",
            "Epoch 56/500\n",
            "227845/227845 [==============================] - 6s 27us/step - loss: 4.4545e-04 - accuracy: 0.9999\n",
            "Epoch 57/500\n",
            "227845/227845 [==============================] - 6s 28us/step - loss: 5.7747e-04 - accuracy: 0.9999\n",
            "Epoch 58/500\n",
            "227845/227845 [==============================] - 6s 28us/step - loss: 7.6826e-04 - accuracy: 0.9999\n",
            "Epoch 59/500\n",
            "227845/227845 [==============================] - 6s 27us/step - loss: 2.8508e-04 - accuracy: 0.9999\n",
            "Epoch 60/500\n",
            "227845/227845 [==============================] - 6s 28us/step - loss: 2.6234e-04 - accuracy: 0.9999\n",
            "Epoch 61/500\n",
            "227845/227845 [==============================] - 6s 28us/step - loss: 4.0981e-04 - accuracy: 0.9999\n",
            "Epoch 62/500\n",
            "227845/227845 [==============================] - 6s 28us/step - loss: 3.7792e-04 - accuracy: 0.9999\n",
            "Epoch 63/500\n",
            "227845/227845 [==============================] - 6s 27us/step - loss: 4.2056e-04 - accuracy: 0.9999\n",
            "Epoch 64/500\n",
            "227845/227845 [==============================] - 6s 28us/step - loss: 4.0069e-04 - accuracy: 0.9999\n",
            "Epoch 65/500\n",
            "227845/227845 [==============================] - 6s 27us/step - loss: 4.0314e-04 - accuracy: 0.9999\n",
            "Epoch 66/500\n",
            "227845/227845 [==============================] - 6s 28us/step - loss: 3.8599e-04 - accuracy: 0.9999\n",
            "Epoch 67/500\n",
            "227845/227845 [==============================] - 8s 34us/step - loss: 3.2927e-04 - accuracy: 0.9999\n",
            "Epoch 68/500\n",
            "227845/227845 [==============================] - 6s 27us/step - loss: 4.1599e-04 - accuracy: 0.9999\n",
            "Epoch 69/500\n",
            "227845/227845 [==============================] - 6s 28us/step - loss: 4.5609e-04 - accuracy: 0.9999\n",
            "Epoch 70/500\n",
            "227845/227845 [==============================] - 6s 28us/step - loss: 3.4222e-04 - accuracy: 0.9999\n",
            "Epoch 71/500\n",
            "227845/227845 [==============================] - 6s 28us/step - loss: 3.1612e-04 - accuracy: 0.9999\n",
            "Epoch 72/500\n",
            "227845/227845 [==============================] - 6s 28us/step - loss: 2.5229e-04 - accuracy: 0.9999\n",
            "Epoch 73/500\n",
            "227845/227845 [==============================] - 6s 28us/step - loss: 3.5609e-04 - accuracy: 0.9999\n",
            "Epoch 74/500\n",
            "227845/227845 [==============================] - 6s 27us/step - loss: 4.1065e-04 - accuracy: 0.9999\n",
            "Epoch 75/500\n",
            "227845/227845 [==============================] - 6s 28us/step - loss: 2.3462e-04 - accuracy: 0.9999\n",
            "Epoch 76/500\n",
            "227845/227845 [==============================] - 6s 28us/step - loss: 3.7628e-04 - accuracy: 0.9999\n",
            "Epoch 77/500\n",
            "227845/227845 [==============================] - 6s 28us/step - loss: 2.4232e-04 - accuracy: 0.9999\n",
            "Epoch 78/500\n",
            "227845/227845 [==============================] - 6s 28us/step - loss: 4.2372e-04 - accuracy: 0.9999\n",
            "Epoch 79/500\n",
            "227845/227845 [==============================] - 7s 30us/step - loss: 3.1166e-04 - accuracy: 0.9999\n",
            "Epoch 80/500\n",
            "227845/227845 [==============================] - 7s 29us/step - loss: 3.7968e-04 - accuracy: 0.9999\n",
            "Epoch 81/500\n",
            "227845/227845 [==============================] - 7s 29us/step - loss: 4.1482e-04 - accuracy: 0.9999\n",
            "Epoch 82/500\n",
            "227845/227845 [==============================] - 6s 28us/step - loss: 3.7326e-04 - accuracy: 0.9999\n",
            "Epoch 83/500\n",
            "227845/227845 [==============================] - 6s 28us/step - loss: 5.3949e-04 - accuracy: 0.9999\n",
            "Epoch 84/500\n",
            "227845/227845 [==============================] - 6s 28us/step - loss: 3.9382e-04 - accuracy: 0.9999\n",
            "Epoch 85/500\n",
            "227845/227845 [==============================] - 6s 28us/step - loss: 2.4002e-04 - accuracy: 0.9999\n",
            "Epoch 86/500\n",
            "227845/227845 [==============================] - 6s 28us/step - loss: 4.2767e-04 - accuracy: 0.9999\n",
            "Epoch 87/500\n",
            "227845/227845 [==============================] - 6s 28us/step - loss: 3.7796e-04 - accuracy: 0.9999\n",
            "Epoch 88/500\n",
            "227845/227845 [==============================] - 6s 28us/step - loss: 4.2863e-04 - accuracy: 0.9999\n",
            "Epoch 89/500\n",
            "227845/227845 [==============================] - 6s 28us/step - loss: 4.0393e-04 - accuracy: 0.9999\n",
            "Epoch 90/500\n",
            "227845/227845 [==============================] - 7s 30us/step - loss: 3.6159e-04 - accuracy: 0.9999\n",
            "Epoch 91/500\n",
            "227845/227845 [==============================] - 6s 28us/step - loss: 2.3849e-04 - accuracy: 0.9999\n",
            "Epoch 92/500\n",
            "227845/227845 [==============================] - 6s 27us/step - loss: 3.2946e-04 - accuracy: 0.9999\n",
            "Epoch 93/500\n",
            "227845/227845 [==============================] - 6s 28us/step - loss: 2.2293e-04 - accuracy: 0.9999\n",
            "Epoch 94/500\n",
            "227845/227845 [==============================] - 6s 28us/step - loss: 5.4333e-04 - accuracy: 0.9998\n",
            "Epoch 95/500\n",
            "227845/227845 [==============================] - 6s 28us/step - loss: 3.2151e-04 - accuracy: 0.9999\n",
            "Epoch 96/500\n",
            "227845/227845 [==============================] - 6s 28us/step - loss: 3.5143e-04 - accuracy: 0.9999\n",
            "Epoch 97/500\n",
            "227845/227845 [==============================] - 6s 28us/step - loss: 2.6409e-04 - accuracy: 0.9999\n",
            "Epoch 98/500\n",
            "227845/227845 [==============================] - 6s 28us/step - loss: 4.2110e-04 - accuracy: 0.9999\n",
            "Epoch 99/500\n",
            "227845/227845 [==============================] - 6s 28us/step - loss: 2.8330e-04 - accuracy: 0.9999\n",
            "Epoch 100/500\n",
            "227845/227845 [==============================] - 6s 28us/step - loss: 3.2192e-04 - accuracy: 0.9999\n",
            "Epoch 101/500\n",
            "227845/227845 [==============================] - 6s 28us/step - loss: 2.3558e-04 - accuracy: 0.9999\n",
            "Epoch 102/500\n",
            "227845/227845 [==============================] - 6s 28us/step - loss: 2.3578e-04 - accuracy: 0.9999\n",
            "Epoch 103/500\n",
            "227845/227845 [==============================] - 6s 28us/step - loss: 2.7808e-04 - accuracy: 0.9999\n",
            "Epoch 104/500\n",
            "227845/227845 [==============================] - 6s 28us/step - loss: 3.2691e-04 - accuracy: 0.9999\n",
            "Epoch 105/500\n",
            "227845/227845 [==============================] - 6s 28us/step - loss: 1.6338e-04 - accuracy: 0.9999\n",
            "Epoch 106/500\n",
            "227845/227845 [==============================] - 6s 28us/step - loss: 5.4551e-04 - accuracy: 0.9999\n",
            "Epoch 107/500\n",
            "227845/227845 [==============================] - 6s 28us/step - loss: 4.3267e-04 - accuracy: 0.9999\n",
            "Epoch 108/500\n",
            "227845/227845 [==============================] - 6s 27us/step - loss: 2.0782e-04 - accuracy: 0.9999\n",
            "Epoch 109/500\n",
            "227845/227845 [==============================] - 6s 28us/step - loss: 1.7916e-04 - accuracy: 0.9999\n",
            "Epoch 110/500\n",
            "227845/227845 [==============================] - 6s 27us/step - loss: 3.8109e-04 - accuracy: 0.9999\n",
            "Epoch 111/500\n",
            "227845/227845 [==============================] - 6s 28us/step - loss: 2.3683e-04 - accuracy: 0.9999\n",
            "Epoch 112/500\n",
            "227845/227845 [==============================] - 6s 28us/step - loss: 3.1251e-04 - accuracy: 0.9999\n",
            "Epoch 113/500\n",
            "227845/227845 [==============================] - 6s 28us/step - loss: 2.9824e-04 - accuracy: 0.9999\n",
            "Epoch 114/500\n",
            "227845/227845 [==============================] - 6s 28us/step - loss: 3.0410e-04 - accuracy: 0.9999\n",
            "Epoch 115/500\n",
            "227845/227845 [==============================] - 6s 28us/step - loss: 1.6789e-04 - accuracy: 0.9999\n",
            "Epoch 116/500\n",
            "227845/227845 [==============================] - 6s 28us/step - loss: 3.6073e-04 - accuracy: 0.9999\n",
            "Epoch 117/500\n",
            "227845/227845 [==============================] - 6s 28us/step - loss: 4.0691e-04 - accuracy: 0.9999\n",
            "Epoch 118/500\n",
            "227845/227845 [==============================] - 6s 28us/step - loss: 2.0577e-04 - accuracy: 0.9999\n",
            "Epoch 119/500\n",
            "227845/227845 [==============================] - 6s 28us/step - loss: 3.6797e-04 - accuracy: 0.9999\n",
            "Epoch 120/500\n",
            "227845/227845 [==============================] - 6s 28us/step - loss: 2.1447e-04 - accuracy: 0.9999\n",
            "Epoch 121/500\n",
            "227845/227845 [==============================] - 6s 27us/step - loss: 3.9723e-04 - accuracy: 0.9999\n",
            "Epoch 122/500\n",
            "227845/227845 [==============================] - 6s 28us/step - loss: 2.1267e-04 - accuracy: 0.9999\n",
            "Epoch 123/500\n",
            "227845/227845 [==============================] - 6s 28us/step - loss: 1.8270e-04 - accuracy: 0.9999\n",
            "Epoch 124/500\n",
            "227845/227845 [==============================] - 6s 27us/step - loss: 1.0023e-04 - accuracy: 1.0000\n",
            "Epoch 125/500\n",
            "227845/227845 [==============================] - 6s 28us/step - loss: 2.1882e-04 - accuracy: 0.9999\n",
            "Epoch 126/500\n",
            "227845/227845 [==============================] - 6s 27us/step - loss: 2.0763e-04 - accuracy: 1.0000\n",
            "Epoch 127/500\n",
            "227845/227845 [==============================] - 6s 28us/step - loss: 3.2554e-04 - accuracy: 0.9999\n",
            "Epoch 128/500\n",
            "227845/227845 [==============================] - 7s 30us/step - loss: 3.2448e-04 - accuracy: 0.9999\n",
            "Epoch 129/500\n",
            "227845/227845 [==============================] - 7s 31us/step - loss: 2.9275e-04 - accuracy: 0.9999\n",
            "Epoch 130/500\n",
            "227845/227845 [==============================] - 6s 28us/step - loss: 1.6430e-04 - accuracy: 0.9999\n",
            "Epoch 131/500\n",
            "227845/227845 [==============================] - 6s 28us/step - loss: 5.1662e-04 - accuracy: 0.9999\n",
            "Epoch 132/500\n",
            "227845/227845 [==============================] - 6s 28us/step - loss: 2.6484e-04 - accuracy: 0.9999\n",
            "Epoch 133/500\n",
            "227845/227845 [==============================] - 6s 28us/step - loss: 3.6585e-04 - accuracy: 0.9999\n",
            "Epoch 134/500\n",
            "227845/227845 [==============================] - 6s 28us/step - loss: 1.4649e-04 - accuracy: 1.0000\n",
            "Epoch 135/500\n",
            "227845/227845 [==============================] - 6s 28us/step - loss: 1.6764e-04 - accuracy: 1.0000\n",
            "Epoch 136/500\n",
            "227845/227845 [==============================] - 6s 28us/step - loss: 3.9140e-04 - accuracy: 0.9999\n",
            "Epoch 137/500\n",
            "227845/227845 [==============================] - 6s 28us/step - loss: 1.7690e-04 - accuracy: 1.0000\n",
            "Epoch 138/500\n",
            "227845/227845 [==============================] - 6s 28us/step - loss: 1.7953e-04 - accuracy: 0.9999\n",
            "Epoch 139/500\n",
            "227845/227845 [==============================] - 6s 28us/step - loss: 3.3040e-04 - accuracy: 0.9999\n",
            "Epoch 140/500\n",
            "227845/227845 [==============================] - 6s 28us/step - loss: 2.3009e-04 - accuracy: 0.9999\n",
            "Epoch 141/500\n",
            "227845/227845 [==============================] - 6s 28us/step - loss: 1.7130e-04 - accuracy: 0.9999\n",
            "Epoch 142/500\n",
            "227845/227845 [==============================] - 6s 28us/step - loss: 4.2543e-04 - accuracy: 0.9999\n",
            "Epoch 143/500\n",
            "227845/227845 [==============================] - 6s 28us/step - loss: 1.9706e-04 - accuracy: 0.9999\n",
            "Epoch 144/500\n",
            "227845/227845 [==============================] - 6s 28us/step - loss: 3.4975e-04 - accuracy: 0.9999\n",
            "Epoch 145/500\n",
            "227845/227845 [==============================] - 6s 28us/step - loss: 2.5606e-04 - accuracy: 0.9999\n",
            "Epoch 146/500\n",
            "227845/227845 [==============================] - 6s 28us/step - loss: 9.1233e-05 - accuracy: 1.0000\n",
            "Epoch 147/500\n",
            "227845/227845 [==============================] - 6s 28us/step - loss: 3.0576e-04 - accuracy: 0.9999\n",
            "Epoch 148/500\n",
            "227845/227845 [==============================] - 6s 28us/step - loss: 2.4928e-04 - accuracy: 1.0000\n",
            "Epoch 149/500\n",
            "227845/227845 [==============================] - 6s 28us/step - loss: 2.9073e-04 - accuracy: 0.9999\n",
            "Epoch 150/500\n",
            "227845/227845 [==============================] - 6s 28us/step - loss: 1.8286e-04 - accuracy: 1.0000\n",
            "Epoch 151/500\n",
            "227845/227845 [==============================] - 6s 28us/step - loss: 1.4704e-04 - accuracy: 0.9999\n",
            "Epoch 152/500\n",
            "227845/227845 [==============================] - 6s 28us/step - loss: 3.4554e-04 - accuracy: 0.9999\n",
            "Epoch 153/500\n",
            "227845/227845 [==============================] - 6s 28us/step - loss: 2.2836e-04 - accuracy: 0.9999\n",
            "Epoch 154/500\n",
            "227845/227845 [==============================] - 6s 28us/step - loss: 2.0963e-04 - accuracy: 0.9999\n",
            "Epoch 155/500\n",
            "227845/227845 [==============================] - 6s 28us/step - loss: 1.8800e-04 - accuracy: 0.9999\n",
            "Epoch 156/500\n",
            "227845/227845 [==============================] - 7s 29us/step - loss: 1.8928e-04 - accuracy: 0.9999\n",
            "Epoch 157/500\n",
            "227845/227845 [==============================] - 6s 28us/step - loss: 2.7920e-04 - accuracy: 0.9999\n",
            "Epoch 158/500\n",
            "227845/227845 [==============================] - 6s 28us/step - loss: 2.5658e-04 - accuracy: 0.9999\n",
            "Epoch 159/500\n",
            "227845/227845 [==============================] - 6s 28us/step - loss: 2.0644e-04 - accuracy: 0.9999\n",
            "Epoch 160/500\n",
            "227845/227845 [==============================] - 6s 28us/step - loss: 2.8903e-04 - accuracy: 0.9999\n",
            "Epoch 161/500\n",
            "227845/227845 [==============================] - 6s 28us/step - loss: 2.4321e-04 - accuracy: 0.9999\n",
            "Epoch 162/500\n",
            "227845/227845 [==============================] - 9s 37us/step - loss: 2.5776e-04 - accuracy: 0.9999\n",
            "Epoch 163/500\n",
            "227845/227845 [==============================] - 6s 28us/step - loss: 2.4721e-04 - accuracy: 1.0000\n",
            "Epoch 164/500\n",
            "227845/227845 [==============================] - 6s 28us/step - loss: 3.9852e-04 - accuracy: 0.9999\n",
            "Epoch 165/500\n",
            "227845/227845 [==============================] - 6s 28us/step - loss: 1.5372e-04 - accuracy: 1.0000\n",
            "Epoch 166/500\n",
            "227845/227845 [==============================] - 6s 28us/step - loss: 3.5264e-04 - accuracy: 0.9999\n",
            "Epoch 167/500\n",
            "227845/227845 [==============================] - 6s 28us/step - loss: 1.7654e-04 - accuracy: 0.9999\n",
            "Epoch 168/500\n",
            "227845/227845 [==============================] - 6s 28us/step - loss: 1.3136e-04 - accuracy: 1.0000\n",
            "Epoch 169/500\n",
            "227845/227845 [==============================] - 6s 28us/step - loss: 2.8589e-04 - accuracy: 0.9999\n",
            "Epoch 170/500\n",
            "227845/227845 [==============================] - 6s 28us/step - loss: 2.4238e-04 - accuracy: 0.9999\n",
            "Epoch 171/500\n",
            "227845/227845 [==============================] - 6s 28us/step - loss: 2.1011e-04 - accuracy: 1.0000\n",
            "Epoch 172/500\n",
            "227845/227845 [==============================] - 6s 28us/step - loss: 4.6218e-04 - accuracy: 0.9999\n",
            "Epoch 173/500\n",
            "227845/227845 [==============================] - 6s 28us/step - loss: 2.0730e-04 - accuracy: 1.0000\n",
            "Epoch 174/500\n",
            "227845/227845 [==============================] - 6s 28us/step - loss: 2.2967e-04 - accuracy: 0.9999\n",
            "Epoch 175/500\n",
            "227845/227845 [==============================] - 6s 28us/step - loss: 1.4573e-04 - accuracy: 1.0000\n",
            "Epoch 176/500\n",
            "227845/227845 [==============================] - 7s 30us/step - loss: 3.0410e-04 - accuracy: 0.9999\n",
            "Epoch 177/500\n",
            "227845/227845 [==============================] - 7s 33us/step - loss: 3.1022e-04 - accuracy: 0.9999\n",
            "Epoch 178/500\n",
            "227845/227845 [==============================] - 6s 28us/step - loss: 1.9109e-04 - accuracy: 1.0000\n",
            "Epoch 179/500\n",
            "227845/227845 [==============================] - 6s 28us/step - loss: 1.0113e-04 - accuracy: 1.0000\n",
            "Epoch 180/500\n",
            "227845/227845 [==============================] - 6s 28us/step - loss: 4.6969e-04 - accuracy: 0.9999\n",
            "Epoch 181/500\n",
            "227845/227845 [==============================] - 6s 28us/step - loss: 3.3935e-04 - accuracy: 0.9999\n",
            "Epoch 182/500\n",
            "227845/227845 [==============================] - 6s 28us/step - loss: 9.9248e-05 - accuracy: 1.0000\n",
            "Epoch 183/500\n",
            "227845/227845 [==============================] - 6s 28us/step - loss: 2.4805e-04 - accuracy: 0.9999\n",
            "Epoch 184/500\n",
            "227845/227845 [==============================] - 6s 28us/step - loss: 2.6388e-04 - accuracy: 0.9999\n",
            "Epoch 185/500\n",
            "227845/227845 [==============================] - 6s 28us/step - loss: 3.0756e-04 - accuracy: 0.9999\n",
            "Epoch 186/500\n",
            "227845/227845 [==============================] - 6s 28us/step - loss: 2.2215e-04 - accuracy: 0.9999\n",
            "Epoch 187/500\n",
            "227845/227845 [==============================] - 6s 28us/step - loss: 1.4970e-04 - accuracy: 0.9999\n",
            "Epoch 188/500\n",
            "227845/227845 [==============================] - 6s 28us/step - loss: 3.1658e-04 - accuracy: 0.9999\n",
            "Epoch 189/500\n",
            "227845/227845 [==============================] - 6s 28us/step - loss: 3.0582e-04 - accuracy: 0.9999\n",
            "Epoch 190/500\n",
            "227845/227845 [==============================] - 6s 28us/step - loss: 2.1932e-04 - accuracy: 1.0000\n",
            "Epoch 191/500\n",
            "227845/227845 [==============================] - 6s 28us/step - loss: 3.1272e-04 - accuracy: 0.9999\n",
            "Epoch 192/500\n",
            "227845/227845 [==============================] - 6s 28us/step - loss: 2.7041e-04 - accuracy: 0.9999\n",
            "Epoch 193/500\n",
            "227845/227845 [==============================] - 6s 28us/step - loss: 2.3579e-04 - accuracy: 1.0000\n",
            "Epoch 194/500\n",
            "227845/227845 [==============================] - 6s 28us/step - loss: 2.1664e-04 - accuracy: 1.0000\n",
            "Epoch 195/500\n",
            "227845/227845 [==============================] - 6s 28us/step - loss: 3.8947e-04 - accuracy: 0.9999\n",
            "Epoch 196/500\n",
            "227845/227845 [==============================] - 6s 28us/step - loss: 3.4632e-04 - accuracy: 0.9999\n",
            "Epoch 197/500\n",
            "227845/227845 [==============================] - 6s 28us/step - loss: 1.6327e-04 - accuracy: 0.9999\n",
            "Epoch 198/500\n",
            "227845/227845 [==============================] - 6s 28us/step - loss: 2.5849e-04 - accuracy: 1.0000\n",
            "Epoch 199/500\n",
            "227845/227845 [==============================] - 6s 28us/step - loss: 2.1190e-04 - accuracy: 1.0000\n",
            "Epoch 200/500\n",
            "227845/227845 [==============================] - 6s 28us/step - loss: 2.7224e-04 - accuracy: 0.9999\n",
            "Epoch 201/500\n",
            "227845/227845 [==============================] - 6s 28us/step - loss: 2.1143e-04 - accuracy: 1.0000\n",
            "Epoch 202/500\n",
            "227845/227845 [==============================] - 6s 28us/step - loss: 2.6060e-04 - accuracy: 0.9999\n",
            "Epoch 203/500\n",
            "227845/227845 [==============================] - 7s 29us/step - loss: 9.6235e-05 - accuracy: 1.0000\n",
            "Epoch 204/500\n",
            "227845/227845 [==============================] - 6s 28us/step - loss: 3.5799e-04 - accuracy: 0.9999\n",
            "Epoch 205/500\n",
            "227845/227845 [==============================] - 6s 28us/step - loss: 2.2334e-04 - accuracy: 0.9999\n",
            "Epoch 206/500\n",
            "227845/227845 [==============================] - 6s 28us/step - loss: 1.9011e-04 - accuracy: 1.0000\n",
            "Epoch 207/500\n",
            "227845/227845 [==============================] - 6s 28us/step - loss: 2.3942e-04 - accuracy: 1.0000\n",
            "Epoch 208/500\n",
            "227845/227845 [==============================] - 6s 28us/step - loss: 1.9261e-04 - accuracy: 0.9999\n",
            "Epoch 209/500\n",
            "227845/227845 [==============================] - 6s 28us/step - loss: 3.9341e-04 - accuracy: 0.9999\n",
            "Epoch 210/500\n",
            "227845/227845 [==============================] - 6s 28us/step - loss: 1.7865e-04 - accuracy: 1.0000\n",
            "Epoch 211/500\n",
            "227845/227845 [==============================] - 6s 28us/step - loss: 2.4684e-04 - accuracy: 0.9999\n",
            "Epoch 212/500\n",
            "227845/227845 [==============================] - 6s 28us/step - loss: 3.2454e-04 - accuracy: 0.9999\n",
            "Epoch 213/500\n",
            "227845/227845 [==============================] - 6s 28us/step - loss: 1.4834e-04 - accuracy: 1.0000\n",
            "Epoch 214/500\n",
            "227845/227845 [==============================] - 7s 29us/step - loss: 7.3669e-04 - accuracy: 0.9999\n",
            "Epoch 215/500\n",
            "227845/227845 [==============================] - 6s 28us/step - loss: 1.7659e-04 - accuracy: 0.9999\n",
            "Epoch 216/500\n",
            "227845/227845 [==============================] - 6s 28us/step - loss: 1.6811e-04 - accuracy: 1.0000\n",
            "Epoch 217/500\n",
            "227845/227845 [==============================] - 6s 28us/step - loss: 3.7915e-04 - accuracy: 1.0000\n",
            "Epoch 218/500\n",
            "227845/227845 [==============================] - 6s 28us/step - loss: 2.8662e-04 - accuracy: 0.9999\n",
            "Epoch 219/500\n",
            "227845/227845 [==============================] - 6s 28us/step - loss: 2.3173e-04 - accuracy: 1.0000\n",
            "Epoch 220/500\n",
            "227845/227845 [==============================] - 6s 28us/step - loss: 2.1371e-04 - accuracy: 1.0000\n",
            "Epoch 221/500\n",
            "227845/227845 [==============================] - 6s 28us/step - loss: 3.7978e-04 - accuracy: 0.9999\n",
            "Epoch 222/500\n",
            "227845/227845 [==============================] - 6s 28us/step - loss: 1.2621e-04 - accuracy: 1.0000\n",
            "Epoch 223/500\n",
            "227845/227845 [==============================] - 6s 28us/step - loss: 2.5775e-04 - accuracy: 0.9999\n",
            "Epoch 224/500\n",
            "227845/227845 [==============================] - 6s 28us/step - loss: 2.7392e-04 - accuracy: 0.9999\n",
            "Epoch 225/500\n",
            "227845/227845 [==============================] - 8s 35us/step - loss: 2.4767e-04 - accuracy: 1.0000\n",
            "Epoch 226/500\n",
            "227845/227845 [==============================] - 7s 29us/step - loss: 2.0238e-04 - accuracy: 0.9999\n",
            "Epoch 227/500\n",
            "227845/227845 [==============================] - 6s 28us/step - loss: 3.5589e-04 - accuracy: 0.9999\n",
            "Epoch 228/500\n",
            "227845/227845 [==============================] - 6s 28us/step - loss: 3.7834e-04 - accuracy: 0.9999\n",
            "Epoch 229/500\n",
            "227845/227845 [==============================] - 6s 28us/step - loss: 3.7025e-04 - accuracy: 1.0000\n",
            "Epoch 230/500\n",
            "227845/227845 [==============================] - 6s 28us/step - loss: 1.8584e-04 - accuracy: 0.9999\n",
            "Epoch 231/500\n",
            "227845/227845 [==============================] - 6s 28us/step - loss: 3.6460e-04 - accuracy: 0.9999\n",
            "Epoch 232/500\n",
            "227845/227845 [==============================] - 6s 28us/step - loss: 3.5503e-04 - accuracy: 1.0000\n",
            "Epoch 233/500\n",
            "227845/227845 [==============================] - 6s 28us/step - loss: 2.1672e-04 - accuracy: 1.0000\n",
            "Epoch 234/500\n",
            "227845/227845 [==============================] - 6s 28us/step - loss: 2.7091e-04 - accuracy: 0.9999\n",
            "Epoch 235/500\n",
            "227845/227845 [==============================] - 6s 28us/step - loss: 2.1920e-04 - accuracy: 1.0000\n",
            "Epoch 236/500\n",
            "227845/227845 [==============================] - 6s 28us/step - loss: 4.3956e-04 - accuracy: 0.9999\n",
            "Epoch 237/500\n",
            "227845/227845 [==============================] - 6s 28us/step - loss: 1.4949e-04 - accuracy: 0.9999\n",
            "Epoch 238/500\n",
            "227845/227845 [==============================] - 6s 28us/step - loss: 9.1933e-05 - accuracy: 1.0000\n",
            "Epoch 239/500\n",
            "227845/227845 [==============================] - 6s 28us/step - loss: 2.0638e-04 - accuracy: 1.0000\n",
            "Epoch 240/500\n",
            "227845/227845 [==============================] - 7s 29us/step - loss: 2.6678e-04 - accuracy: 1.0000\n",
            "Epoch 241/500\n",
            "227845/227845 [==============================] - 6s 28us/step - loss: 1.5020e-04 - accuracy: 1.0000\n",
            "Epoch 242/500\n",
            "227845/227845 [==============================] - 6s 28us/step - loss: 2.0273e-04 - accuracy: 0.9999\n",
            "Epoch 243/500\n",
            "227845/227845 [==============================] - 6s 28us/step - loss: 1.9117e-04 - accuracy: 0.9999\n",
            "Epoch 244/500\n",
            "227845/227845 [==============================] - 6s 28us/step - loss: 1.7939e-04 - accuracy: 1.0000\n",
            "Epoch 245/500\n",
            "227845/227845 [==============================] - 6s 28us/step - loss: 3.5707e-04 - accuracy: 0.9999\n",
            "Epoch 246/500\n",
            "227845/227845 [==============================] - 6s 28us/step - loss: 1.9766e-04 - accuracy: 1.0000\n",
            "Epoch 247/500\n",
            "227845/227845 [==============================] - 6s 28us/step - loss: 1.5476e-04 - accuracy: 1.0000\n",
            "Epoch 248/500\n",
            "227845/227845 [==============================] - 6s 28us/step - loss: 3.3791e-04 - accuracy: 0.9999\n",
            "Epoch 249/500\n",
            "227845/227845 [==============================] - 6s 28us/step - loss: 9.0460e-05 - accuracy: 1.0000\n",
            "Epoch 250/500\n",
            "227845/227845 [==============================] - 6s 28us/step - loss: 3.3408e-04 - accuracy: 0.9999\n",
            "Epoch 251/500\n",
            "227845/227845 [==============================] - 6s 28us/step - loss: 4.2084e-04 - accuracy: 0.9999\n",
            "Epoch 252/500\n",
            "227845/227845 [==============================] - 6s 28us/step - loss: 1.6019e-04 - accuracy: 1.0000\n",
            "Epoch 253/500\n",
            "227845/227845 [==============================] - 6s 28us/step - loss: 1.5556e-04 - accuracy: 1.0000\n",
            "Epoch 254/500\n",
            "227845/227845 [==============================] - 6s 28us/step - loss: 2.2446e-04 - accuracy: 0.9999\n",
            "Epoch 255/500\n",
            "227845/227845 [==============================] - 6s 28us/step - loss: 2.0032e-04 - accuracy: 1.0000\n",
            "Epoch 256/500\n",
            "227845/227845 [==============================] - 6s 28us/step - loss: 3.2023e-04 - accuracy: 0.9999\n",
            "Epoch 257/500\n",
            "227845/227845 [==============================] - 8s 37us/step - loss: 2.6033e-04 - accuracy: 0.9999\n",
            "Epoch 258/500\n",
            "227845/227845 [==============================] - 6s 28us/step - loss: 2.7467e-04 - accuracy: 0.9999\n",
            "Epoch 259/500\n",
            "227845/227845 [==============================] - 6s 28us/step - loss: 2.6028e-04 - accuracy: 0.9999\n",
            "Epoch 260/500\n",
            "227845/227845 [==============================] - 6s 28us/step - loss: 1.3801e-04 - accuracy: 1.0000\n",
            "Epoch 261/500\n",
            "227845/227845 [==============================] - 6s 28us/step - loss: 4.6083e-04 - accuracy: 0.9999\n",
            "Epoch 262/500\n",
            "227845/227845 [==============================] - 6s 28us/step - loss: 1.7772e-04 - accuracy: 1.0000\n",
            "Epoch 263/500\n",
            "227845/227845 [==============================] - 6s 28us/step - loss: 3.1150e-04 - accuracy: 0.9999\n",
            "Epoch 264/500\n",
            "227845/227845 [==============================] - 6s 28us/step - loss: 1.4987e-04 - accuracy: 1.0000\n",
            "Epoch 265/500\n",
            "227845/227845 [==============================] - 6s 28us/step - loss: 1.5764e-04 - accuracy: 0.9999\n",
            "Epoch 266/500\n",
            "227845/227845 [==============================] - 6s 28us/step - loss: 4.8938e-04 - accuracy: 0.9999\n",
            "Epoch 267/500\n",
            "227845/227845 [==============================] - 6s 28us/step - loss: 2.8625e-04 - accuracy: 1.0000\n",
            "Epoch 268/500\n",
            "227845/227845 [==============================] - 6s 28us/step - loss: 1.1394e-04 - accuracy: 1.0000\n",
            "Epoch 269/500\n",
            "227845/227845 [==============================] - 6s 28us/step - loss: 2.5391e-04 - accuracy: 1.0000\n",
            "Epoch 270/500\n",
            "227845/227845 [==============================] - 6s 28us/step - loss: 3.0242e-04 - accuracy: 1.0000\n",
            "Epoch 271/500\n",
            "227845/227845 [==============================] - 6s 28us/step - loss: 1.9035e-04 - accuracy: 1.0000\n",
            "Epoch 272/500\n",
            "227845/227845 [==============================] - 7s 30us/step - loss: 1.3667e-04 - accuracy: 1.0000\n",
            "Epoch 273/500\n",
            "227845/227845 [==============================] - 7s 32us/step - loss: 3.4438e-04 - accuracy: 0.9999\n",
            "Epoch 274/500\n",
            "227845/227845 [==============================] - 7s 29us/step - loss: 1.9646e-04 - accuracy: 1.0000\n",
            "Epoch 275/500\n",
            "227845/227845 [==============================] - 6s 28us/step - loss: 5.8454e-04 - accuracy: 0.9999\n",
            "Epoch 276/500\n",
            "227845/227845 [==============================] - 6s 28us/step - loss: 1.8703e-04 - accuracy: 1.0000\n",
            "Epoch 277/500\n",
            "227845/227845 [==============================] - 6s 28us/step - loss: 2.2491e-04 - accuracy: 0.9999\n",
            "Epoch 278/500\n",
            "227845/227845 [==============================] - 6s 28us/step - loss: 1.5923e-04 - accuracy: 0.9999\n",
            "Epoch 279/500\n",
            "227845/227845 [==============================] - 6s 28us/step - loss: 1.7117e-04 - accuracy: 1.0000\n",
            "Epoch 280/500\n",
            "227845/227845 [==============================] - 6s 28us/step - loss: 1.7821e-04 - accuracy: 0.9999\n",
            "Epoch 281/500\n",
            "227845/227845 [==============================] - 6s 28us/step - loss: 1.5182e-04 - accuracy: 1.0000\n",
            "Epoch 282/500\n",
            "227845/227845 [==============================] - 6s 28us/step - loss: 1.7007e-04 - accuracy: 1.0000\n",
            "Epoch 283/500\n",
            "227845/227845 [==============================] - 6s 28us/step - loss: 4.3972e-04 - accuracy: 0.9999\n",
            "Epoch 284/500\n",
            "227845/227845 [==============================] - 6s 28us/step - loss: 2.4210e-04 - accuracy: 0.9999\n",
            "Epoch 285/500\n",
            "227845/227845 [==============================] - 6s 28us/step - loss: 1.4811e-04 - accuracy: 1.0000\n",
            "Epoch 286/500\n",
            "227845/227845 [==============================] - 6s 27us/step - loss: 2.1306e-04 - accuracy: 1.0000\n",
            "Epoch 287/500\n",
            "227845/227845 [==============================] - 6s 28us/step - loss: 2.2110e-04 - accuracy: 1.0000\n",
            "Epoch 288/500\n",
            "227845/227845 [==============================] - 6s 28us/step - loss: 4.7832e-04 - accuracy: 1.0000\n",
            "Epoch 289/500\n",
            "227845/227845 [==============================] - 6s 28us/step - loss: 1.5999e-04 - accuracy: 1.0000\n",
            "Epoch 290/500\n",
            "227845/227845 [==============================] - 6s 28us/step - loss: 2.7953e-04 - accuracy: 1.0000\n",
            "Epoch 291/500\n",
            "227845/227845 [==============================] - 6s 28us/step - loss: 1.8847e-04 - accuracy: 1.0000\n",
            "Epoch 292/500\n",
            "227845/227845 [==============================] - 7s 29us/step - loss: 1.5011e-04 - accuracy: 1.0000\n",
            "Epoch 293/500\n",
            "227845/227845 [==============================] - 6s 28us/step - loss: 1.5618e-04 - accuracy: 1.0000\n",
            "Epoch 294/500\n",
            "227845/227845 [==============================] - 6s 28us/step - loss: 1.2686e-04 - accuracy: 1.0000\n",
            "Epoch 295/500\n",
            "227845/227845 [==============================] - 6s 28us/step - loss: 1.8710e-04 - accuracy: 1.0000\n",
            "Epoch 296/500\n",
            "227845/227845 [==============================] - 6s 28us/step - loss: 2.6294e-04 - accuracy: 0.9999\n",
            "Epoch 297/500\n",
            "227845/227845 [==============================] - 6s 28us/step - loss: 1.4041e-04 - accuracy: 1.0000\n",
            "Epoch 298/500\n",
            "227845/227845 [==============================] - 6s 28us/step - loss: 2.3881e-04 - accuracy: 1.0000\n",
            "Epoch 299/500\n",
            "227845/227845 [==============================] - 6s 28us/step - loss: 8.7696e-05 - accuracy: 1.0000\n",
            "Epoch 300/500\n",
            "227845/227845 [==============================] - 6s 28us/step - loss: 1.3912e-04 - accuracy: 1.0000\n",
            "Epoch 301/500\n",
            "227845/227845 [==============================] - 6s 28us/step - loss: 2.9388e-04 - accuracy: 1.0000\n",
            "Epoch 302/500\n",
            "227845/227845 [==============================] - 6s 28us/step - loss: 4.1119e-04 - accuracy: 0.9999\n",
            "Epoch 303/500\n",
            "227845/227845 [==============================] - 6s 28us/step - loss: 4.8946e-04 - accuracy: 0.9999\n",
            "Epoch 304/500\n",
            "227845/227845 [==============================] - 6s 28us/step - loss: 1.0515e-04 - accuracy: 1.0000\n",
            "Epoch 305/500\n",
            "227845/227845 [==============================] - 6s 28us/step - loss: 3.7260e-04 - accuracy: 0.9999\n",
            "Epoch 306/500\n",
            "227845/227845 [==============================] - 6s 28us/step - loss: 3.5055e-04 - accuracy: 1.0000\n",
            "Epoch 307/500\n",
            "227845/227845 [==============================] - 6s 28us/step - loss: 2.5799e-04 - accuracy: 1.0000\n",
            "Epoch 308/500\n",
            "227845/227845 [==============================] - 6s 28us/step - loss: 3.0088e-04 - accuracy: 0.9999\n",
            "Epoch 309/500\n",
            "227845/227845 [==============================] - 6s 28us/step - loss: 1.8371e-04 - accuracy: 1.0000\n",
            "Epoch 310/500\n",
            "227845/227845 [==============================] - 6s 28us/step - loss: 1.2695e-04 - accuracy: 1.0000\n",
            "Epoch 311/500\n",
            "227845/227845 [==============================] - 6s 28us/step - loss: 3.6350e-04 - accuracy: 1.0000\n",
            "Epoch 312/500\n",
            "227845/227845 [==============================] - 6s 28us/step - loss: 1.2068e-04 - accuracy: 1.0000\n",
            "Epoch 313/500\n",
            "227845/227845 [==============================] - 6s 28us/step - loss: 2.2365e-04 - accuracy: 1.0000\n",
            "Epoch 314/500\n",
            "227845/227845 [==============================] - 6s 28us/step - loss: 4.6049e-04 - accuracy: 0.9999\n",
            "Epoch 315/500\n",
            "227845/227845 [==============================] - 6s 28us/step - loss: 2.3170e-04 - accuracy: 1.0000\n",
            "Epoch 316/500\n",
            "227845/227845 [==============================] - 6s 28us/step - loss: 2.3450e-04 - accuracy: 1.0000\n",
            "Epoch 317/500\n",
            "227845/227845 [==============================] - 6s 28us/step - loss: 2.0887e-04 - accuracy: 1.0000\n",
            "Epoch 318/500\n",
            "227845/227845 [==============================] - 6s 28us/step - loss: 2.2521e-04 - accuracy: 1.0000\n",
            "Epoch 319/500\n",
            "227845/227845 [==============================] - 7s 29us/step - loss: 2.1750e-04 - accuracy: 0.9999\n",
            "Epoch 320/500\n",
            "227845/227845 [==============================] - 7s 32us/step - loss: 8.1066e-05 - accuracy: 1.0000\n",
            "Epoch 321/500\n",
            "227845/227845 [==============================] - 7s 30us/step - loss: 3.5896e-04 - accuracy: 0.9999\n",
            "Epoch 322/500\n",
            "227845/227845 [==============================] - 7s 30us/step - loss: 7.1793e-05 - accuracy: 1.0000\n",
            "Epoch 323/500\n",
            "227845/227845 [==============================] - 6s 28us/step - loss: 2.4635e-04 - accuracy: 0.9999\n",
            "Epoch 324/500\n",
            "227845/227845 [==============================] - 6s 28us/step - loss: 2.9874e-04 - accuracy: 1.0000\n",
            "Epoch 325/500\n",
            "227845/227845 [==============================] - 6s 28us/step - loss: 2.7430e-04 - accuracy: 1.0000\n",
            "Epoch 326/500\n",
            "227845/227845 [==============================] - 6s 27us/step - loss: 2.2750e-04 - accuracy: 0.9999\n",
            "Epoch 327/500\n",
            "227845/227845 [==============================] - 6s 28us/step - loss: 1.3971e-04 - accuracy: 1.0000\n",
            "Epoch 328/500\n",
            "227845/227845 [==============================] - 6s 28us/step - loss: 1.4354e-04 - accuracy: 1.0000\n",
            "Epoch 329/500\n",
            "227845/227845 [==============================] - 6s 28us/step - loss: 3.5625e-04 - accuracy: 1.0000\n",
            "Epoch 330/500\n",
            "227845/227845 [==============================] - 6s 27us/step - loss: 2.6212e-04 - accuracy: 0.9999\n",
            "Epoch 331/500\n",
            "227845/227845 [==============================] - 6s 28us/step - loss: 2.1939e-04 - accuracy: 1.0000\n",
            "Epoch 332/500\n",
            "227845/227845 [==============================] - 6s 27us/step - loss: 3.8689e-04 - accuracy: 0.9999\n",
            "Epoch 333/500\n",
            "227845/227845 [==============================] - 6s 27us/step - loss: 1.3102e-04 - accuracy: 1.0000\n",
            "Epoch 334/500\n",
            "227845/227845 [==============================] - 6s 28us/step - loss: 2.2953e-04 - accuracy: 0.9999\n",
            "Epoch 335/500\n",
            "227845/227845 [==============================] - 6s 28us/step - loss: 1.9355e-04 - accuracy: 1.0000\n",
            "Epoch 336/500\n",
            "227845/227845 [==============================] - 6s 27us/step - loss: 3.7388e-04 - accuracy: 1.0000\n",
            "Epoch 337/500\n",
            "227845/227845 [==============================] - 6s 28us/step - loss: 3.0343e-04 - accuracy: 1.0000\n",
            "Epoch 338/500\n",
            "227845/227845 [==============================] - 6s 28us/step - loss: 2.4152e-04 - accuracy: 1.0000\n",
            "Epoch 339/500\n",
            "227845/227845 [==============================] - 6s 29us/step - loss: 1.7982e-04 - accuracy: 1.0000\n",
            "Epoch 340/500\n",
            "227845/227845 [==============================] - 6s 28us/step - loss: 3.6508e-04 - accuracy: 0.9999\n",
            "Epoch 341/500\n",
            "227845/227845 [==============================] - 6s 28us/step - loss: 2.6089e-04 - accuracy: 1.0000\n",
            "Epoch 342/500\n",
            "227845/227845 [==============================] - 6s 28us/step - loss: 1.2555e-04 - accuracy: 1.0000\n",
            "Epoch 343/500\n",
            "227845/227845 [==============================] - 6s 28us/step - loss: 2.6889e-04 - accuracy: 1.0000\n",
            "Epoch 344/500\n",
            "227845/227845 [==============================] - 6s 28us/step - loss: 2.1617e-04 - accuracy: 1.0000\n",
            "Epoch 345/500\n",
            "227845/227845 [==============================] - 6s 28us/step - loss: 3.8873e-04 - accuracy: 0.9999\n",
            "Epoch 346/500\n",
            "227845/227845 [==============================] - 6s 28us/step - loss: 2.1689e-04 - accuracy: 1.0000\n",
            "Epoch 347/500\n",
            "227845/227845 [==============================] - 6s 28us/step - loss: 3.1929e-04 - accuracy: 1.0000\n",
            "Epoch 348/500\n",
            "227845/227845 [==============================] - 6s 28us/step - loss: 7.7862e-05 - accuracy: 1.0000\n",
            "Epoch 349/500\n",
            "227845/227845 [==============================] - 6s 28us/step - loss: 1.8975e-04 - accuracy: 1.0000\n",
            "Epoch 350/500\n",
            "227845/227845 [==============================] - 6s 28us/step - loss: 2.4449e-04 - accuracy: 1.0000\n",
            "Epoch 351/500\n",
            "227845/227845 [==============================] - 6s 28us/step - loss: 1.5209e-04 - accuracy: 1.0000\n",
            "Epoch 352/500\n",
            "227845/227845 [==============================] - 9s 41us/step - loss: 9.2748e-05 - accuracy: 1.0000\n",
            "Epoch 353/500\n",
            "227845/227845 [==============================] - 6s 28us/step - loss: 1.3058e-04 - accuracy: 1.0000\n",
            "Epoch 354/500\n",
            "227845/227845 [==============================] - 6s 28us/step - loss: 3.2869e-04 - accuracy: 1.0000\n",
            "Epoch 355/500\n",
            "227845/227845 [==============================] - 6s 28us/step - loss: 1.9982e-04 - accuracy: 1.0000\n",
            "Epoch 356/500\n",
            "227845/227845 [==============================] - 6s 28us/step - loss: 2.1796e-04 - accuracy: 1.0000\n",
            "Epoch 357/500\n",
            "227845/227845 [==============================] - 6s 28us/step - loss: 3.0593e-04 - accuracy: 1.0000\n",
            "Epoch 358/500\n",
            "227845/227845 [==============================] - 6s 28us/step - loss: 1.1416e-04 - accuracy: 1.0000\n",
            "Epoch 359/500\n",
            "227845/227845 [==============================] - 6s 29us/step - loss: 1.0357e-04 - accuracy: 1.0000\n",
            "Epoch 360/500\n",
            "227845/227845 [==============================] - 6s 28us/step - loss: 2.3329e-04 - accuracy: 1.0000\n",
            "Epoch 361/500\n",
            "227845/227845 [==============================] - 6s 28us/step - loss: 2.5625e-04 - accuracy: 1.0000\n",
            "Epoch 362/500\n",
            "227845/227845 [==============================] - 6s 28us/step - loss: 7.6329e-05 - accuracy: 1.0000\n",
            "Epoch 363/500\n",
            "227845/227845 [==============================] - 6s 28us/step - loss: 4.0228e-04 - accuracy: 1.0000\n",
            "Epoch 364/500\n",
            "227845/227845 [==============================] - 6s 28us/step - loss: 8.9861e-05 - accuracy: 1.0000\n",
            "Epoch 365/500\n",
            "227845/227845 [==============================] - 6s 28us/step - loss: 2.6564e-04 - accuracy: 0.9999\n",
            "Epoch 366/500\n",
            "227845/227845 [==============================] - 6s 28us/step - loss: 4.8944e-04 - accuracy: 0.9999\n",
            "Epoch 367/500\n",
            "227845/227845 [==============================] - 6s 28us/step - loss: 1.8444e-04 - accuracy: 1.0000\n",
            "Epoch 368/500\n",
            "227845/227845 [==============================] - 7s 31us/step - loss: 1.5809e-04 - accuracy: 1.0000\n",
            "Epoch 369/500\n",
            "227845/227845 [==============================] - 6s 28us/step - loss: 3.6499e-04 - accuracy: 0.9999\n",
            "Epoch 370/500\n",
            "227845/227845 [==============================] - 7s 30us/step - loss: 1.1780e-04 - accuracy: 1.0000\n",
            "Epoch 371/500\n",
            "227845/227845 [==============================] - 7s 29us/step - loss: 1.7673e-04 - accuracy: 1.0000\n",
            "Epoch 372/500\n",
            "227845/227845 [==============================] - 6s 28us/step - loss: 1.3950e-04 - accuracy: 1.0000\n",
            "Epoch 373/500\n",
            "227845/227845 [==============================] - 6s 28us/step - loss: 1.5989e-04 - accuracy: 1.0000\n",
            "Epoch 374/500\n",
            "227845/227845 [==============================] - 6s 28us/step - loss: 9.0407e-05 - accuracy: 1.0000\n",
            "Epoch 375/500\n",
            "227845/227845 [==============================] - 6s 28us/step - loss: 3.5805e-04 - accuracy: 1.0000\n",
            "Epoch 376/500\n",
            "227845/227845 [==============================] - 6s 28us/step - loss: 1.0476e-04 - accuracy: 1.0000\n",
            "Epoch 377/500\n",
            "227845/227845 [==============================] - 6s 28us/step - loss: 2.0401e-04 - accuracy: 1.0000\n",
            "Epoch 378/500\n",
            "227845/227845 [==============================] - 6s 28us/step - loss: 2.9705e-04 - accuracy: 1.0000\n",
            "Epoch 379/500\n",
            "227845/227845 [==============================] - 6s 28us/step - loss: 1.0334e-04 - accuracy: 1.0000\n",
            "Epoch 380/500\n",
            "227845/227845 [==============================] - 7s 29us/step - loss: 3.0805e-04 - accuracy: 1.0000\n",
            "Epoch 381/500\n",
            "227845/227845 [==============================] - 6s 28us/step - loss: 1.9968e-04 - accuracy: 1.0000\n",
            "Epoch 382/500\n",
            "227845/227845 [==============================] - 6s 28us/step - loss: 1.5936e-04 - accuracy: 1.0000\n",
            "Epoch 383/500\n",
            "227845/227845 [==============================] - 6s 28us/step - loss: 1.6795e-04 - accuracy: 1.0000\n",
            "Epoch 384/500\n",
            "227845/227845 [==============================] - 6s 28us/step - loss: 2.8766e-04 - accuracy: 1.0000\n",
            "Epoch 385/500\n",
            "227845/227845 [==============================] - 6s 28us/step - loss: 2.0432e-04 - accuracy: 1.0000\n",
            "Epoch 386/500\n",
            "227845/227845 [==============================] - 6s 28us/step - loss: 7.3066e-05 - accuracy: 1.0000\n",
            "Epoch 387/500\n",
            "227845/227845 [==============================] - 6s 28us/step - loss: 2.4936e-04 - accuracy: 1.0000\n",
            "Epoch 388/500\n",
            "227845/227845 [==============================] - 6s 28us/step - loss: 1.1190e-04 - accuracy: 1.0000\n",
            "Epoch 389/500\n",
            "227845/227845 [==============================] - 6s 28us/step - loss: 2.2169e-04 - accuracy: 0.9999\n",
            "Epoch 390/500\n",
            "227845/227845 [==============================] - 6s 28us/step - loss: 1.4621e-04 - accuracy: 1.0000\n",
            "Epoch 391/500\n",
            "227845/227845 [==============================] - 6s 28us/step - loss: 3.2548e-04 - accuracy: 0.9999\n",
            "Epoch 392/500\n",
            "227845/227845 [==============================] - 6s 28us/step - loss: 1.6426e-04 - accuracy: 1.0000\n",
            "Epoch 393/500\n",
            "227845/227845 [==============================] - 6s 28us/step - loss: 1.9052e-04 - accuracy: 1.0000\n",
            "Epoch 394/500\n",
            "227845/227845 [==============================] - 6s 28us/step - loss: 1.6911e-04 - accuracy: 1.0000\n",
            "Epoch 395/500\n",
            "227845/227845 [==============================] - 6s 28us/step - loss: 2.0316e-04 - accuracy: 1.0000\n",
            "Epoch 396/500\n",
            "227845/227845 [==============================] - 6s 28us/step - loss: 3.5159e-04 - accuracy: 1.0000\n",
            "Epoch 397/500\n",
            "227845/227845 [==============================] - 6s 27us/step - loss: 1.8062e-04 - accuracy: 1.0000\n",
            "Epoch 398/500\n",
            "227845/227845 [==============================] - 6s 27us/step - loss: 2.6162e-04 - accuracy: 0.9999\n",
            "Epoch 399/500\n",
            "227845/227845 [==============================] - 6s 28us/step - loss: 1.9591e-04 - accuracy: 1.0000\n",
            "Epoch 400/500\n",
            "227845/227845 [==============================] - 6s 28us/step - loss: 1.9320e-04 - accuracy: 0.9999\n",
            "Epoch 401/500\n",
            "227845/227845 [==============================] - 6s 28us/step - loss: 1.2198e-04 - accuracy: 1.0000\n",
            "Epoch 402/500\n",
            "227845/227845 [==============================] - 6s 28us/step - loss: 8.5292e-05 - accuracy: 1.0000\n",
            "Epoch 403/500\n",
            "227845/227845 [==============================] - 6s 28us/step - loss: 1.1136e-04 - accuracy: 1.0000\n",
            "Epoch 404/500\n",
            "227845/227845 [==============================] - 6s 27us/step - loss: 1.3150e-04 - accuracy: 1.0000\n",
            "Epoch 405/500\n",
            "227845/227845 [==============================] - 6s 27us/step - loss: 2.1729e-04 - accuracy: 1.0000\n",
            "Epoch 406/500\n",
            "227845/227845 [==============================] - 6s 27us/step - loss: 2.6623e-04 - accuracy: 1.0000\n",
            "Epoch 407/500\n",
            "227845/227845 [==============================] - 6s 28us/step - loss: 1.0345e-04 - accuracy: 1.0000\n",
            "Epoch 408/500\n",
            "227845/227845 [==============================] - 6s 28us/step - loss: 3.9708e-04 - accuracy: 0.9999\n",
            "Epoch 409/500\n",
            "227845/227845 [==============================] - 6s 28us/step - loss: 6.8055e-05 - accuracy: 1.0000\n",
            "Epoch 410/500\n",
            "227845/227845 [==============================] - 6s 28us/step - loss: 5.3583e-05 - accuracy: 1.0000\n",
            "Epoch 411/500\n",
            "227845/227845 [==============================] - 6s 28us/step - loss: 4.0922e-04 - accuracy: 1.0000\n",
            "Epoch 412/500\n",
            "227845/227845 [==============================] - 6s 28us/step - loss: 1.3910e-04 - accuracy: 1.0000\n",
            "Epoch 413/500\n",
            "227845/227845 [==============================] - 6s 28us/step - loss: 1.0023e-04 - accuracy: 1.0000\n",
            "Epoch 414/500\n",
            "227845/227845 [==============================] - 6s 28us/step - loss: 2.1631e-04 - accuracy: 1.0000\n",
            "Epoch 415/500\n",
            "227845/227845 [==============================] - 6s 28us/step - loss: 1.2645e-04 - accuracy: 1.0000\n",
            "Epoch 416/500\n",
            " 50450/227845 [=====>........................] - ETA: 5s - loss: 7.5540e-06 - accuracy: 1.0000"
          ],
          "name": "stdout"
        }
      ]
    },
    {
      "cell_type": "code",
      "metadata": {
        "id": "fvHUL8pr4vAP"
      },
      "source": [
        "ANN_pred = model.predict(X_test)"
      ],
      "execution_count": null,
      "outputs": []
    },
    {
      "cell_type": "code",
      "metadata": {
        "id": "u04SG82WkJe9"
      },
      "source": [
        ""
      ],
      "execution_count": null,
      "outputs": []
    },
    {
      "cell_type": "code",
      "metadata": {
        "id": "CsowuHe0kGpH"
      },
      "source": [
        "\n",
        "#Array of list of list to Array of list\n",
        "Y_new = []\n",
        "for i in Y_pred:\n",
        "  for k in i:\n",
        "    Y_new.append(str(int(k)))\n",
        "  \n",
        "Y_new = np.array(Y_new, dtype = object) \n",
        "\n",
        "#PRINT\n",
        "#Y_test, Y_new\n",
        "\n",
        "from sklearn.metrics import confusion_matrix\n",
        "cm = confusion_matrix(Y_test, Y_new)\n",
        "print(cm)"
      ],
      "execution_count": null,
      "outputs": []
    },
    {
      "cell_type": "code",
      "metadata": {
        "id": "ni4o6y-a462j"
      },
      "source": [
        "print(\"Accuracy score %f\" % accuracy_score(Y_test, Y_new))\n",
        "print(classification_report(Y_test, Y_new))\n",
        "\n",
        "\"\"\"\n",
        "CASE 1: \n",
        "Layer 1 : unit = 10\n",
        "Layer 2 : unit = 5\n",
        "Layer 3 : unit = 1\n",
        "Batch_size = 10, nb_epoch = 100\n",
        "Accuracy score 0.0.859649\n",
        "\n",
        "CASE 2: \n",
        "Layer 1 : unit = 30\n",
        "Layer 2 : unit = 15\n",
        "Layer 3 : unit = 1\n",
        "Batch_size = 10, nb_epoch = 100\n",
        "Accuracy score 0.956140\n",
        "\n",
        "CASE 3: \n",
        "Layer 1 : unit = 30\n",
        "Layer 2 : unit = 15\n",
        "Layer 3 : unit = 1\n",
        "Batch_size = 15, nb_epoch = 100\n",
        "Accuracy score 0.964912 \n",
        "\n",
        "CASE 4: \n",
        "Layer 1 : unit = 30\n",
        "Layer 2 : unit = 15\n",
        "Layer 3 : unit = 1\n",
        "Batch_size = 30, nb_epoch = 100\n",
        "Accuracy score 0.964912 \n",
        "\n",
        "CASE 5: \n",
        "Layer 1 : unit = 30\n",
        "Layer 2 : unit = 15\n",
        "Layer 3 : unit = 1\n",
        "Batch_size = 30, nb_epoch = 1000\n",
        "Accuracy score 0.964912 \n",
        "\n",
        "CASE 6: \n",
        "Layer 1 : unit = 30\n",
        "Layer 2 : unit = 20\n",
        "Layer 3 : unit = 10\n",
        "Layer 4 : unit = 1\n",
        "Batch_size = 30, nb_epoch = 100\n",
        "Accuracy score 0.964912 \n",
        "\n",
        "CASE 7:\n",
        "model = Sequential()\n",
        "model.add(Dense(units = 30, activation = 'relu', input_shape=(30,)))\n",
        "model.add(Dense(units = 15, activation = 'relu'))\n",
        "model.add(Dense(units = 1, activation = 'sigmoid'))\n",
        "model.summary()\n",
        "\n",
        "model.compile(optimizer = 'adam', loss = 'binary_crossentropy', metrics = ['accuracy'])\n",
        "model.fit(X_train, Y_train, batch_size = 30, nb_epoch = 1000)\n",
        "\n",
        "Accuracy score 0.973684\n",
        "              precision    recall  f1-score   support\n",
        "\n",
        "           0       0.96      1.00      0.98        75\n",
        "           1       1.00      0.92      0.96        39\n",
        "\n",
        "    accuracy                           0.97       114\n",
        "   macro avg       0.98      0.96      0.97       114\n",
        "weighted avg       0.97      0.97      0.97       114\n",
        "\n",
        "CASE 8:\n",
        "model = Sequential()\n",
        "model.add(Dense(units = 30, activation = 'relu', input_shape=(30,)))\n",
        "model.add(Dense(units = 15, activation = 'relu'))\n",
        "model.add(Dense(units = 1, activation = 'sigmoid'))\n",
        "model.summary()\n",
        "\n",
        "model.compile(optimizer = 'adam', loss = 'binary_crossentropy', metrics = ['accuracy'])\n",
        "model.fit(X_train, Y_train, batch_size = 30, nb_epoch = 1000)\n",
        "\n",
        "\n",
        "Accuracy score 0.982456\n",
        "              precision    recall  f1-score   support\n",
        "\n",
        "           0       0.97      1.00      0.99        75\n",
        "           1       1.00      0.95      0.97        39\n",
        "\n",
        "    accuracy                           0.98       114\n",
        "   macro avg       0.99      0.97      0.98       114\n",
        "weighted avg       0.98      0.98      0.98       114\n",
        "\"\"\""
      ],
      "execution_count": null,
      "outputs": []
    },
    {
      "cell_type": "markdown",
      "metadata": {
        "id": "GCe7Zf9HBcoW"
      },
      "source": [
        "************************************************************************"
      ]
    },
    {
      "cell_type": "markdown",
      "metadata": {
        "id": "b2qB1D_KtmhL"
      },
      "source": [
        "#Deep Learning"
      ]
    },
    {
      "cell_type": "code",
      "metadata": {
        "id": "4-7h-3vgu35t"
      },
      "source": [
        "from keras.callbacks import ModelCheckpoint\n",
        "from keras.models import Sequential\n",
        "from keras.layers import Dense, Activation, Flatten\n",
        "from sklearn.model_selection import train_test_split\n",
        "from sklearn.ensemble import RandomForestRegressor\n",
        "from sklearn.metrics import mean_absolute_error \n",
        "from matplotlib import pyplot as plt\n",
        "import seaborn as sb\n",
        "import matplotlib.pyplot as plt\n",
        "import pandas as pd\n",
        "import numpy as np\n",
        "import warnings \n",
        "warnings.filterwarnings('ignore')\n",
        "warnings.filterwarnings('ignore', category=DeprecationWarning)\n",
        "from xgboost import XGBRegressor"
      ],
      "execution_count": null,
      "outputs": []
    },
    {
      "cell_type": "code",
      "metadata": {
        "id": "zZ8Y3WN_oOV3"
      },
      "source": [
        "sc_X = StandardScaler()\n",
        "X_train = sc_X.fit_transform(X_train)\n",
        "X_test =sc_X.transform(X_test)"
      ],
      "execution_count": null,
      "outputs": []
    },
    {
      "cell_type": "code",
      "metadata": {
        "id": "XCU8dMUku33L"
      },
      "source": [
        "NN_model = Sequential()\n",
        "\n",
        "# The Input Layer :\n",
        "NN_model.add(Dense(units = 455, activation = 'relu', input_shape=(30,)))\n",
        "\n",
        "# The Hidden Layers :\n",
        "NN_model.add(Dense(1000, kernel_initializer='normal',activation='relu'))\n",
        "NN_model.add(Dense(500, kernel_initializer='normal',activation='relu'))\n",
        "NN_model.add(Dense(100, kernel_initializer='normal',activation='relu'))\n",
        "NN_model.add(Dense(10, kernel_initializer='normal',activation='relu'))\n",
        "\n",
        "# The Output Layer :\n",
        "NN_model.add(Dense(1, kernel_initializer='normal',activation='sigmoid'))\n",
        "/\n",
        "# Compile the network :\n",
        "NN_model.compile(loss='mean_absolute_error', optimizer='adam', metrics=['mean_absolute_error'])\n",
        "NN_model.summary()"
      ],
      "execution_count": null,
      "outputs": []
    },
    {
      "cell_type": "code",
      "metadata": {
        "id": "sAsMvoECgG55"
      },
      "source": [
        "checkpoint_name = 'Weights-{epoch:03d}--{val_loss:.5f}.hdf5' \n",
        "checkpoint = ModelCheckpoint(checkpoint_name, monitor='val_loss', verbose = 1, save_best_only = True, mode ='auto')\n",
        "callbacks_list = [checkpoint]\n",
        "\n",
        "checkpointer = ModelCheckpoint(filepath='weights.best.cnn.hdf5', verbose=1, save_best_only=True) "
      ],
      "execution_count": null,
      "outputs": []
    },
    {
      "cell_type": "code",
      "metadata": {
        "id": "ylj52TFRwPjt"
      },
      "source": [
        "Y = df['Class'].values\n",
        "X = df.drop('Class', axis=1).values\n",
        "\n",
        "X_train, X_test, Y_train, Y_test = train_test_split (X, Y, test_size = 0.20)"
      ],
      "execution_count": null,
      "outputs": []
    },
    {
      "cell_type": "code",
      "metadata": {
        "id": "mPVn9qXKu3vz"
      },
      "source": [
        "NN_model.fit(X_train, Y_train, epochs=1000, batch_size=50, validation_split = 0.2, callbacks=callbacks_list)"
      ],
      "execution_count": null,
      "outputs": []
    },
    {
      "cell_type": "code",
      "metadata": {
        "id": "V2mUOEtB2dac"
      },
      "source": [
        "#NN_model.load_weights('weights.best.cnn.hdf5')"
      ],
      "execution_count": null,
      "outputs": []
    },
    {
      "cell_type": "code",
      "metadata": {
        "id": "zi2v5_e2u3tt"
      },
      "source": [
        "#wights_file = 'Weights-{epoch:03d}--{val_loss:.5f}.hdf5' \n",
        "#NN_model.load_weights(wights_file) \n",
        "NN_model.compile(loss='mean_absolute_error', optimizer='adam', metrics=['mean_absolute_error'])"
      ],
      "execution_count": null,
      "outputs": []
    },
    {
      "cell_type": "code",
      "metadata": {
        "id": "hLFsCAkUu3oS"
      },
      "source": [
        "DL_pred = model.predict(X_test)\n",
        "\n",
        "#Array of list of list to Array of list\n",
        "DLPred = []\n",
        "for i in DL_pred:\n",
        "  for k in i:\n",
        "    DLPred.append(str(int(k)))\n",
        "  \n",
        "DLPred = np.array(DLPred, dtype = object) \n",
        "\n",
        "#PRINT\n",
        "#Y_test, Y_new\n",
        "\n",
        "from sklearn.metrics import confusion_matrix\n",
        "cm = confusion_matrix(Y_test, DLPred)\n",
        "print(cm)"
      ],
      "execution_count": null,
      "outputs": []
    },
    {
      "cell_type": "code",
      "metadata": {
        "id": "jxsi0GnLrP3d"
      },
      "source": [
        "print(\"Accuracy score %f\" % accuracy_score(Y_test, DLPred))\n",
        "print(classification_report(Y_test, DLPred))\n",
        "\n",
        "\"\"\"\n",
        "CASE 1:\n",
        "#The Input Later\n",
        "NN_model.add(Dense(units = 100, activation = 'relu', input_shape=(30,)))\n",
        "\n",
        "# The Hidden Layers :\n",
        "NN_model.add(Dense(50, kernel_initializer='normal',activation='relu'))\n",
        "NN_model.add(Dense(10, kernel_initializer='normal',activation='relu'))\n",
        "#NN_model.add(Dense(256, kernel_initializer='normal',activation='relu'))\n",
        "\n",
        "# The Output Layer :\n",
        "NN_model.add(Dense(1, kernel_initializer='normal',activation='sigmoid'))\n",
        "\n",
        "#RESULT: \n",
        "Epoch 00500: val_loss did not improve from 0.00001\n",
        "Accuracy score 0.964912\n",
        "\n",
        "CASE 2:\n",
        "NN_model = Sequential()\n",
        "\n",
        "# The Input Layer :\n",
        "NN_model.add(Dense(units = 455, activation = 'relu', input_shape=(30,)))\n",
        "\n",
        "# The Hidden Layers :\n",
        "NN_model.add(Dense(200, kernel_initializer='normal',activation='relu'))\n",
        "NN_model.add(Dense(100, kernel_initializer='normal',activation='relu'))\n",
        "NN_model.add(Dense(50, kernel_initializer='normal',activation='relu'))\n",
        "\n",
        "# The Output Layer :\n",
        "NN_model.add(Dense(1, kernel_initializer='normal',activation='sigmoid'))\n",
        "/\n",
        "# Compile the network :\n",
        "NN_model.compile(loss='mean_absolute_error', optimizer='adam', metrics=['mean_absolute_error'])\n",
        "NN_model.summary()\n",
        "\n",
        "NN_model.fit(X_train, Y_train, epochs=1000, batch_size=30, validation_split = 0.2, callbacks=callbacks_list)\n",
        "\n",
        "Accuracy score 0.973684\n",
        "              precision    recall  f1-score   support\n",
        "\n",
        "           0       0.96      1.00      0.98        75\n",
        "           1       1.00      0.92      0.96        39\n",
        "\n",
        "    accuracy                           0.97       114\n",
        "   macro avg       0.98      0.96      0.97       114\n",
        "weighted avg       0.97      0.97      0.97       114\n",
        "\n",
        "CASE 3:\n",
        "\n",
        "NN_model = Sequential()\n",
        "\n",
        "# The Input Layer :\n",
        "NN_model.add(Dense(units = 455, activation = 'relu', input_shape=(30,)))\n",
        "\n",
        "# The Hidden Layers :\n",
        "NN_model.add(Dense(200, kernel_initializer='normal',activation='relu'))\n",
        "NN_model.add(Dense(100, kernel_initializer='normal',activation='relu'))\n",
        "NN_model.add(Dense(50, kernel_initializer='normal',activation='relu'))\n",
        "\n",
        "# The Output Layer :\n",
        "NN_model.add(Dense(1, kernel_initializer='normal',activation='sigmoid'))\n",
        "\n",
        "# Compile the network :\n",
        "NN_model.compile(loss='mean_absolute_error', optimizer='adam', metrics=['mean_absolute_error'])\n",
        "NN_model.summary()\n",
        "\n",
        "NN_model.fit(X_train, Y_train, epochs=1000, batch_size=30, validation_split = 0.2, callbacks=callbacks_list)\n",
        "\n",
        "Epoch 01000: val_loss did not improve from 0.00000\n",
        "\n",
        "Accuracy score 0.982456\n",
        "              precision    recall  f1-score   support\n",
        "\n",
        "           0       0.97      1.00      0.99        75\n",
        "           1       1.00      0.95      0.97        39\n",
        "\n",
        "    accuracy                           0.98       114\n",
        "   macro avg       0.99      0.97      0.98       114\n",
        "weighted avg       0.98      0.98      0.98       114\n",
        "\"\"\""
      ],
      "execution_count": null,
      "outputs": []
    },
    {
      "cell_type": "code",
      "metadata": {
        "id": "nlq3lo1TIZOy"
      },
      "source": [
        ""
      ],
      "execution_count": null,
      "outputs": []
    },
    {
      "cell_type": "code",
      "metadata": {
        "id": "9fEBQvJAIZKc"
      },
      "source": [
        ""
      ],
      "execution_count": null,
      "outputs": []
    }
  ]
}